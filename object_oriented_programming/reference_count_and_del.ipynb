{
 "cells": [
  {
   "cell_type": "code",
   "execution_count": 2,
   "id": "c4e46d7d",
   "metadata": {},
   "outputs": [
    {
     "name": "stdout",
     "output_type": "stream",
     "text": [
      "<__main__.DogClass object at 0x1115f0760>\n",
      "<__main__.DogClass object at 0x1115f0760>\n",
      "<__main__.DogClass object at 0x1115f0760>\n"
     ]
    }
   ],
   "source": [
    "## Reference Count & del\n",
    "\n",
    "class DogClass:\n",
    "  def __init__(self, name):\n",
    "    self.name = name\n",
    "    \n",
    "dog_a = DogClass(\"Spike\") \n",
    "# when an object is instantiated, memory space is allocated to store it. \n",
    "# 'dog_a' is a reference variable to the underlying object's location in the memory (obj ref count = 1)\n",
    "\n",
    "print(dog_a) \n",
    "# we can see the object's location in the memory when we print the reference variable\n",
    "\n",
    "dog_b = dog_a \n",
    "# creating another reference variable pointing to the object (obj ref count = 2)\n",
    "\n",
    "print(dog_b) \n",
    "# we can see that the new reference variable points to the same memory location\n",
    "\n",
    "doglist = [dog_a, 7, 9] \n",
    "# putting the object in a container (list, dictionary, or tuple) also creates a new reference (obj ref count = 3)\n",
    "\n",
    "del dog_a \n",
    "# 'del' reduces the reference count of an object by one (obj ref count = 2)\n",
    "# if we tried to run the statement 'print(dog_a)' now, we would get 'NameError: name 'dog_a' is not defined'\n",
    "\n",
    "print(dog_b) \n",
    "# 'dog_b' still points to the object at the same memory location\n",
    "\n",
    "dog_b = \"now i refer to a cat\" \n",
    "# reassigning 'dog_b' variable to a string, now it no longer points to the object (obj ref count = 1) \n",
    "\n",
    "doglist[0] = 5 \n",
    "# setting first item to an integer instead of the object. now the list no longer contains the object (obj ref count = 0)\n",
    "\n",
    "# when an object's reference count reaches 0, Python automatically does \"garbage collection,\" \n",
    "# deleting the object from memory and freeing up the memory location for other purposes \n",
    "# (lower level languages like C don't have this kind of automatic memory management)\n",
    "# in Python everything is an object, so reference count and automatic garbage collection would apply\n",
    "# even if 'dog_a' was originally instantiated as an integer, string, etc. rather than as a 'DogClass' object\n",
    "\n",
    "# code and comments by github.com/alandavidgrunberg\n"
   ]
  }
 ],
 "metadata": {
  "kernelspec": {
   "display_name": "Python 3 (ipykernel)",
   "language": "python",
   "name": "python3"
  },
  "language_info": {
   "codemirror_mode": {
    "name": "ipython",
    "version": 3
   },
   "file_extension": ".py",
   "mimetype": "text/x-python",
   "name": "python",
   "nbconvert_exporter": "python",
   "pygments_lexer": "ipython3",
   "version": "3.8.12"
  },
  "toc": {
   "base_numbering": 1,
   "nav_menu": {},
   "number_sections": true,
   "sideBar": true,
   "skip_h1_title": false,
   "title_cell": "Table of Contents",
   "title_sidebar": "Contents",
   "toc_cell": false,
   "toc_position": {},
   "toc_section_display": true,
   "toc_window_display": false
  }
 },
 "nbformat": 4,
 "nbformat_minor": 5
}
