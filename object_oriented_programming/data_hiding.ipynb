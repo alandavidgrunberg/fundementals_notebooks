{
 "cells": [
  {
   "cell_type": "code",
   "execution_count": 1,
   "id": "b45290df",
   "metadata": {},
   "outputs": [
    {
     "name": "stdout",
     "output_type": "stream",
     "text": [
      "None\n",
      "coconut water\n",
      "None\n",
      "root beer\n"
     ]
    }
   ],
   "source": [
    "## Data Hiding\n",
    "\n",
    "# sometimes you may have class methods/attributes that you want to be 'private'- you don't want code from outside the class to access/modify them directly. in Python you cannot make methods/attributes strictly private, but you can 'hide' them in ways that discourage their outside access\n",
    "\n",
    "# first let's look at a class with fully public (by default) methods/attributes:\n",
    "\n",
    "class CupClass:\n",
    "    def __init__(self):\n",
    "        self.content = None # 'content' attribute initially 'None'\n",
    "\n",
    "    def fill(self, beverage): \n",
    "        self.content = beverage # 'fill()' method modifies 'content' attribute \n",
    "\n",
    "    def empty(self):\n",
    "        self.content = None # 'empty()' method sets 'content' attribute back to 'None'\n",
    "        \n",
    "cupobject = CupClass()\n",
    "print(cupobject.content) \n",
    "\n",
    "cupobject.fill('coconut water') # modifying 'content' attribute using 'fill()' method \n",
    "print(cupobject.content) \n",
    "\n",
    "cupobject.empty()\n",
    "print(cupobject.content)\n",
    "\n",
    "cupobject.content = 'root beer' # directly accessing and modifying 'content' attribute \n",
    "print(cupobject.content)\n"
   ]
  },
  {
   "cell_type": "code",
   "execution_count": 2,
   "id": "316444ad",
   "metadata": {},
   "outputs": [
    {
     "name": "stdout",
     "output_type": "stream",
     "text": [
      "None\n",
      "hot milk\n",
      "None\n",
      "None\n",
      "ginger ale\n"
     ]
    }
   ],
   "source": [
    "# in the above code we can modify the 'content' attribute using the 'fill()' method, but we can also modify it directly. to indicate we don't want 'content' accessed directly, we name it with a trailing _underscore. This tells us/other programmers \"don't touch this attribute, except within the class\":\n",
    "\n",
    "class CupClass:\n",
    "    def __init__(self):\n",
    "        self._content = None # '_content' attribute, trailing underscore to indicate private by convention\n",
    "\n",
    "    def fill(self, beverage): \n",
    "        self._content = beverage # 'fill()' method modifies '_content' attribute \n",
    "\n",
    "    def empty(self):\n",
    "        self._content = None # 'empty()' method sets '_content' attribute back to 'None'\n",
    "        \n",
    "cupobject = CupClass()\n",
    "print(cupobject._content) \n",
    "\n",
    "cupobject.fill('hot milk') # modifying '_content' attribute using 'fill()' method as intended\n",
    "print(cupobject._content) \n",
    "\n",
    "cupobject.empty()\n",
    "print(cupobject._content)\n",
    "\n",
    "cupobject.content = 'ginger ale' # attempting to directly access and modify 'content' attribute, nothing happens because the attribute is actually named '_content' and protected by naming convention!\n",
    "print(cupobject._content)\n",
    "\n",
    "cupobject._content = 'ginger ale' # however, if one is determined to access the attribute directly they still can do so by using the name '_content' - it is not strictly private \n",
    "print(cupobject._content) "
   ]
  },
  {
   "cell_type": "code",
   "execution_count": 3,
   "id": "aaa54bc1",
   "metadata": {},
   "outputs": [
    {
     "name": "stdout",
     "output_type": "stream",
     "text": [
      "None\n",
      "mango juice\n",
      "None\n",
      "redbull and vodka\n"
     ]
    }
   ],
   "source": [
    "# in the above code '_content' is weakly protected by naming convention. stronger protection can be had with two trailing __underscores. this tells Python to do something called 'name mangling' which forces anyone trying to access the attribute/method from outside the class to use \"._<classname><membername>\":\n",
    "\n",
    "class CupClass:\n",
    "    def __init__(self):\n",
    "        self.__content = None # '__content' attribute,  double trailing underscore to indicate strongly private and name mangled outside the class \n",
    "\n",
    "    def fill(self, beverage): \n",
    "        self.__content = beverage # 'fill()' method modifies '__content' attribute \n",
    "\n",
    "    def empty(self):\n",
    "        self.__content = None # 'empty()' method sets '__content' attribute back to 'None'\n",
    "        \n",
    "cupobject = CupClass()\n",
    "print(cupobject._CupClass__content) # if we tried to print 'cupobject.__content' we would get \"AttributeError: 'CupClass' object has no attribute '__content'\" Even just to print the  '__content' attribute we need to access it throught it's mangled name '_CupClass__content'!  \n",
    "\n",
    "cupobject.fill('mango juice') # modifying '__content' attribute using 'fill()' method as intended\n",
    "print(cupobject._CupClass__content) \n",
    "\n",
    "cupobject.empty()\n",
    "print(cupobject._CupClass__content)\n",
    "\n",
    "cupobject._CupClass__content = 'redbull and vodka' # of course, if one is really really determined to access the attribute directly they still can do so by using the mangled name '_CupClass__content' as methods/attrbutes cannot be made strictly private in Python\n",
    "print(cupobject._CupClass__content)\n"
   ]
  },
  {
   "cell_type": "code",
   "execution_count": 4,
   "id": "c837a2ad",
   "metadata": {},
   "outputs": [
    {
     "name": "stdout",
     "output_type": "stream",
     "text": [
      "i'm public! i'm weakly protected! i'm strongly protected!\n",
      "i'm public!\n",
      "i'm weakly protected!\n",
      "i'm strongly protected!\n"
     ]
    }
   ],
   "source": [
    "# let's put it all together with a class containing public, weakly protected, and strongly protected attributes\n",
    "\n",
    "class SpamClass:\n",
    "  egg = \"i'm public!\" # public attribute \n",
    "  _egg = \"i'm weakly protected!\" # weakly protected attribute \n",
    "  __egg = \"i'm strongly protected!\" # strongly protected attribute\n",
    "  \n",
    "  def revealeggs(self):\n",
    "    print(self.egg, self._egg, self.__egg) # method (within class) to access all 3 attributes. notice '__egg' can be accessed directly because access happens within the class \n",
    "    \n",
    "spamobj = SpamClass() \n",
    "\n",
    "spamobj.revealeggs() \n",
    "print(spamobj.egg)\n",
    "print(spamobj._egg)\n",
    "# print(spamobj.__egg) # ACCESS DENIED # \"AttributeError: 'SpamClass' object has no attribute '__egg'\"\n",
    "print(spamobj._SpamClass__egg) # mangled name must be used to access '__egg' outside the class \n",
    "\n",
    "# code and comments by github.com/alandavidgrunberg\n"
   ]
  }
 ],
 "metadata": {
  "kernelspec": {
   "display_name": "Python 3 (ipykernel)",
   "language": "python",
   "name": "python3"
  },
  "language_info": {
   "codemirror_mode": {
    "name": "ipython",
    "version": 3
   },
   "file_extension": ".py",
   "mimetype": "text/x-python",
   "name": "python",
   "nbconvert_exporter": "python",
   "pygments_lexer": "ipython3",
   "version": "3.8.12"
  },
  "toc": {
   "base_numbering": 1,
   "nav_menu": {},
   "number_sections": true,
   "sideBar": true,
   "skip_h1_title": false,
   "title_cell": "Table of Contents",
   "title_sidebar": "Contents",
   "toc_cell": false,
   "toc_position": {},
   "toc_section_display": true,
   "toc_window_display": false
  }
 },
 "nbformat": 4,
 "nbformat_minor": 5
}
