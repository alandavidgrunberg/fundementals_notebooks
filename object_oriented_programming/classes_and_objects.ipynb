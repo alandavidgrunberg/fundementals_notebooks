{
 "cells": [
  {
   "cell_type": "code",
   "execution_count": 3,
   "id": "1f691bf3",
   "metadata": {
    "scrolled": true
   },
   "outputs": [
    {
     "name": "stdout",
     "output_type": "stream",
     "text": [
      "2\n",
      "1\n",
      "\n",
      "2\n",
      "1\n"
     ]
    }
   ],
   "source": [
    "## Classes & Objects\n",
    "\n",
    "class CatClass:\n",
    "    # class attributes: can be accessed through the class itself or instances (objects) of the class\n",
    "    eyes = 2 \n",
    "    tail = 1\n",
    "    \n",
    "    # \"__init__\" method: called when new objects of the class created\n",
    "    def __init__(self, name, color, age): # first paramater must be self, refers to the object itself\n",
    "        self.objname = name # object attributes\n",
    "        self.objcolor = color # \"\n",
    "        self.objage = age # \"\n",
    "        \n",
    "    # object methods: can be called by objects of the class\n",
    "    def talk(self): # again first parameter must be self, refers to the object itself\n",
    "        print(\"Meow!\")\n",
    "        \n",
    "    def introduce(self):\n",
    "        print(\"my name is\", self.objname)\n",
    "        \n",
    "\n",
    "# instantiate object\n",
    "cat_object = CatClass(\"Parmesan\", \"orange\", 5)\n",
    "\n",
    "# accessing class attributes through the class\n",
    "print(CatClass.eyes)\n",
    "print(CatClass.tail)\n",
    "print()\n",
    "print(cat_object.eyes)\n",
    "print(cat_object.tail)\n"
   ]
  },
  {
   "cell_type": "code",
   "execution_count": 5,
   "id": "e47829e9",
   "metadata": {},
   "outputs": [
    {
     "name": "stdout",
     "output_type": "stream",
     "text": [
      "Parmesan\n",
      "orange\n",
      "5\n",
      "\n",
      "Meow!\n",
      "my name is Parmesan\n",
      "\n"
     ]
    }
   ],
   "source": [
    "# accessing object attrbutes \n",
    "print(cat_object.objname)\n",
    "print(cat_object.objcolor)\n",
    "print(cat_object.objage)\n",
    "print()\n",
    "# calling object methods\n",
    "cat_object.talk()\n",
    "cat_object.introduce()\n",
    "print()\n"
   ]
  },
  {
   "cell_type": "code",
   "execution_count": 7,
   "id": "4eb0eb8e",
   "metadata": {},
   "outputs": [
    {
     "name": "stdout",
     "output_type": "stream",
     "text": [
      "2\n",
      "1\n",
      "\n",
      "Shufu\n",
      "tabby\n",
      "3\n",
      "\n",
      "Meow!\n",
      "my name is Shufu\n"
     ]
    }
   ],
   "source": [
    "# instantiate another object from same class\n",
    "cat_object2 = CatClass(\"Shufu\", \"tabby\", 3)\n",
    "\n",
    "print(cat_object2.eyes) # class attributes same as first object, because both from same class\n",
    "print(cat_object2.tail) # \"\n",
    "print()\n",
    "print(cat_object2.objname) # object attributes different from first object, because initialized differently\n",
    "print(cat_object2.objcolor)\n",
    "print(cat_object2.objage)\n",
    "print()\n",
    "cat_object2.talk()\n",
    "cat_object2.introduce()\n",
    "\n",
    "# code and comments by github.com/alandavidgrunberg\n"
   ]
  }
 ],
 "metadata": {
  "kernelspec": {
   "display_name": "Python 3 (ipykernel)",
   "language": "python",
   "name": "python3"
  },
  "language_info": {
   "codemirror_mode": {
    "name": "ipython",
    "version": 3
   },
   "file_extension": ".py",
   "mimetype": "text/x-python",
   "name": "python",
   "nbconvert_exporter": "python",
   "pygments_lexer": "ipython3",
   "version": "3.8.12"
  },
  "toc": {
   "base_numbering": 1,
   "nav_menu": {},
   "number_sections": true,
   "sideBar": true,
   "skip_h1_title": false,
   "title_cell": "Table of Contents",
   "title_sidebar": "Contents",
   "toc_cell": false,
   "toc_position": {},
   "toc_section_display": true,
   "toc_window_display": false
  }
 },
 "nbformat": 4,
 "nbformat_minor": 5
}
