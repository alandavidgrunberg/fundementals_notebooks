{
 "cells": [
  {
   "cell_type": "code",
   "execution_count": 12,
   "id": "402d868b",
   "metadata": {},
   "outputs": [
    {
     "name": "stdout",
     "output_type": "stream",
     "text": [
      "chameleon\n",
      "True\n",
      "False\n"
     ]
    }
   ],
   "source": [
    "## Properties & Getters/Setters\n",
    "\n",
    "# when the @property decorator is placed above a method being defined, it means that when an attribute with the same name as the method is accessed, the method will be called instead. One common use of @property is to create read-only attributes (that cannot have their value set outside of the class)\n",
    "\n",
    "# first lets look at a class with no properties:\n",
    "\n",
    "class Lizard:\n",
    "\tdef __init__(self, species):\n",
    "\t\tself.species = species\n",
    "\t\t\n",
    "\talive = True \n",
    "\n",
    "greeny = Lizard(\"chameleon\")\n",
    "print(greeny.species) \n",
    "print(greeny.alive) # reading '.alive' attribute \n",
    "greeny.alive = False # changing value of '.alive' attribute\n",
    "print(greeny.alive) # reading '.alive' attribute\n"
   ]
  },
  {
   "cell_type": "code",
   "execution_count": 13,
   "id": "b42b0f78",
   "metadata": {},
   "outputs": [
    {
     "name": "stdout",
     "output_type": "stream",
     "text": [
      "chameleon\n",
      "True\n"
     ]
    }
   ],
   "source": [
    "# '.alive' is a normal attribute which can be changed outside of the class. But what if we wanted to make it read-only?\n",
    "\n",
    "class Lizard:\n",
    "\tdef __init__(self, species):\n",
    "\t\tself.species = species\n",
    "\t\t\n",
    "\t@property # '@property' decorator tells Python that when attribute with same name as below method accessed, call that method instead (so when '.alive' is accessed, call '.alive()' behind the scenes)\n",
    "\tdef alive(self):\n",
    "\t\treturn True\n",
    "\n",
    "greeny = Lizard(\"chameleon\")\n",
    "print(greeny.species) \n",
    "print(greeny.alive) # reading '.alive' attribute \n",
    "# greeny.alive = False # *ERROR* # If we try to change the value of '.alive' we get \"AttributeError: can't set attribute\" That's because '.alive' the attribute actually calls '.alive()' the method due to the '@property' decorator.  Methods cannot be changed or set like attributes, they can only be called. Thus, we've essentially made '.alive' act like a read-only attribute!\n",
    "\n",
    "# without the '@property' decorator, '.alive()' would be a normal method which could only be called with parentheses, and '.alive' would not act like an attribute, read-only or otherwise (it would just refer to the memory location of the '.alive()' method without calling it)\n"
   ]
  },
  {
   "cell_type": "code",
   "execution_count": 14,
   "id": "922b1266",
   "metadata": {},
   "outputs": [
    {
     "name": "stdout",
     "output_type": "stream",
     "text": [
      "7\n",
      "False\n"
     ]
    }
   ],
   "source": [
    "# properties are often used to create read-only attributes when the attribute in question is derived from other attributes. thus the attribute ought to be read-only as it cannot be defined on it's own. For example:\n",
    "\n",
    "class Human:\n",
    "\tdef __init__(self, age):\n",
    "\t\tself.age = age\n",
    "\t\t\n",
    "\t@property # when '.isadult' is accessed, call 'isadult()' behind the scenes\n",
    "\tdef isadult(self):\n",
    "\t\tif self.age >= 18: # '.isadult' derived from '.age'\n",
    "\t\t\treturn True # '.age' 18 or older is adult\n",
    "\t\telse:\n",
    "\t\t\treturn False # '.age' younger than 18 is not\n",
    "\n",
    "bobby = Human(7)\n",
    "print(bobby.age)\n",
    "print(bobby.isadult)\n",
    "# bobby.isadult = True # *ERROR* # if we try to change the value of '.isadult' we get \"AttributeError: can't set attribute\" because 'isadult' the attribute actually calls '.isadult()' the method due to the '@property' decorator. Mthods cannot be be changed or set like attributes, they can only be called. Thus, we've essentially made 'isadult' act like a read-only attribute.\n",
    "\n",
    "# we want '.isadult' to be a read-only attribute because it depends entirely on '.age' and we don't want it to be possible to change the value of '.isadult' independently of '.age' Otherwise we could end up with 'bobby' being a 7 year old adult!\n"
   ]
  },
  {
   "cell_type": "code",
   "execution_count": 15,
   "id": "9976780b",
   "metadata": {},
   "outputs": [
    {
     "name": "stdout",
     "output_type": "stream",
     "text": [
      "slim\n",
      "True\n",
      "Cannot change!\n",
      "True\n",
      "\n",
      "fat\n",
      "True\n",
      "False\n"
     ]
    }
   ],
   "source": [
    "\n",
    "# as we see in the above examples, properties act as read-only attributes by default. If we try to change one we get \"AttributeError: can't set attribute\" But what if we *DO* want to change one? We can make this possible by defining a setter function. To define a setter for a property, we use a decorator with the same name as the property followed by '.setter'  For example:\n",
    "\n",
    "class Bird:\n",
    "\tdef __init__(self, weight):\n",
    "\t\tself.weight = weight\n",
    "\t\n",
    "\t__flyingability = True # __name-mangled attribute, strongly protected from being accessed outside the class (see \"OOP: Dating Hiding\" for review) Initially set to 'True' because most birds can fly\n",
    "\t\t\n",
    "\t@property # when '.canfly' accessed, calls 'canfly()' behind the scenes which returns '.__flyingability' attribute \n",
    "\tdef canfly(self):\n",
    "\t\treturn self.__flyingability\n",
    "\t\n",
    "\t@canfly.setter # '@canfly.setter' decorator used to define setter for '.canfly' property. now '.canfly' is not just a read-only attribute but can be changed as defined below:\n",
    "\tdef canfly(self, value): # 'value' is whatever comes after the '=' sign when changing the '.canfly' property, AKA \"object.canfly = value\"\n",
    "\t\tif self.weight == \"fat\": # changes allowed ONLY if object's '.weight'  == 'fat'. In other words, changing flying ability from default 'True' only allowed for fat birds\n",
    "\t\t\tself.__flyingability = value # '.__flyingability' attribute set to the new value\n",
    "\t\telse:\n",
    "\t\t\tprint(\"Cannot change!\") # if object's '.weight' =/= 'fat' no change is made and \"Cannot change!\" message is printed \n",
    "\t\t\n",
    "\n",
    "flappy = Bird(\"slim\")\n",
    "print(flappy.weight)\n",
    "print(flappy.canfly) # reading '.canfly' property, returns '.__flyingability' attribute which outputs 'True'\n",
    "flappy.canfly = False # attempting to change '.canfly' property to 'False'. '@canfly.setter' doesn't allow this because '.weight' =/= 'fat', prints \"Cannot change!\" message instead\n",
    "print(flappy.canfly) # '.canfly' still 'True'\n",
    "print()\n",
    "\n",
    "chunky = Bird(\"fat\")\n",
    "print(chunky.weight)\n",
    "print(chunky.canfly) # reading '.canfly' property, returns '.__flyingability' attribute which outputs 'True'\n",
    "chunky.canfly = False # attempting to change '.canfly' property to 'False'. '@canfly.setter' allows this because '.weight' == 'fat'\n",
    "print(chunky.canfly) # '.canfly' now outputs 'False' because we used the setter to change '.__flyingability' attribute to 'False'!\n",
    "\n",
    "# As we see above, defining the property's setter with @propertyname.setter allows the property's value to be changed using '=' like a normal attribute, but only within the conditions defined by the setter\n"
   ]
  },
  {
   "cell_type": "code",
   "execution_count": 7,
   "id": "290a6339",
   "metadata": {},
   "outputs": [
    {
     "name": "stdout",
     "output_type": "stream",
     "text": [
      "['mango', 'pineapple', 'coconut milk']\n",
      "mypw456\n",
      "wrong password, can't tell you!\n"
     ]
    }
   ],
   "source": [
    "# Similiarly, conditions can be applied to reading/accessing the property by defining a getter function using the '@propertyname.getter' decorator. For example:\n",
    "\n",
    "class Sauce:\n",
    "\tdef __init__(self, public_ingredients):\n",
    "\t\tself.public_ingredients = public_ingredients\n",
    "\t\n",
    "\t__secret_ingredients = [\"sriracha\",\"tequila\",\"yak butter\"] # __name-mangled attribute, strongly protected from being accessed outside the class\n",
    "\t\n",
    "\t@property # when '.whats_the_secret' accessed, calls '._whats_the_secret()' behind the scenes\n",
    "\tdef whats_the_secret(self):\n",
    "\t    pass # 'pass' is a null operation, nothing happens when it is called. used as a placeholder because we will define what '._whats_the_secret()' does when called below, using the '@whats_the_secret.getter' decorator \n",
    "\n",
    "\t@whats_the_secret.getter # '@whats_the_secret.getter' decorator used to define getter for '.whats_the_secret' property. now '.whats_the_secret' can only be read/accessed as defined below:\n",
    "\tdef whats_the_secret(self):\n",
    "\t\tpassword = input() # ask user for input\n",
    "\t\tif password == \"chef123\": # if user inputs the correct password, returns '.__secret_ingredients' attribute\n",
    "\t\t\treturn self.__secret_ingredients\n",
    "\t\telse: # if user does not input the correct password, does not return '__secret_ingredients' attribute, returns \"can't tell you!\" message instead\n",
    "\t\t\treturn \"wrong password, can't tell you!\"\n",
    "\t\t# this overrules the previous\n",
    "\t\t\n",
    "tropical = Sauce([\"mango\", \"pineapple\", \"coconut milk\"])\n",
    "\n",
    "print(tropical.public_ingredients) \n",
    "print(tropical.whats_the_secret) # '.whats_the_secret' property now can only be read/accessed according to rules defined by '@whats_the_secret.getter'  \n",
    "\n",
    "# code and comments by github.com/alandavidgrunberg\n",
    "\n",
    "### PASSWORD = chef123\n",
    "### ENTER PASSWORD CORRECTLY/INCORRECTLY BELOW AND PRESS 'ENTER' TO TEST ###\n"
   ]
  }
 ],
 "metadata": {
  "kernelspec": {
   "display_name": "Python 3 (ipykernel)",
   "language": "python",
   "name": "python3"
  },
  "language_info": {
   "codemirror_mode": {
    "name": "ipython",
    "version": 3
   },
   "file_extension": ".py",
   "mimetype": "text/x-python",
   "name": "python",
   "nbconvert_exporter": "python",
   "pygments_lexer": "ipython3",
   "version": "3.8.12"
  },
  "toc": {
   "base_numbering": 1,
   "nav_menu": {},
   "number_sections": true,
   "sideBar": true,
   "skip_h1_title": false,
   "title_cell": "Table of Contents",
   "title_sidebar": "Contents",
   "toc_cell": false,
   "toc_position": {},
   "toc_section_display": true,
   "toc_window_display": false
  }
 },
 "nbformat": 4,
 "nbformat_minor": 5
}
