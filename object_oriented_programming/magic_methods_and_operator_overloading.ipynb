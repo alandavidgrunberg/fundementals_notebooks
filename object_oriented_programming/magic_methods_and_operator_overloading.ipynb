{
 "cells": [
  {
   "cell_type": "code",
   "execution_count": 1,
   "id": "cefc7ecb",
   "metadata": {},
   "outputs": [
    {
     "name": "stdout",
     "output_type": "stream",
     "text": [
      "5\n",
      "7\n",
      "\n",
      "3\n",
      "9\n"
     ]
    }
   ],
   "source": [
    "## Magic Methods & Operator Overloading\n",
    "\n",
    "\n",
    "# magic methods __whichlooklikethis__ can be used to add customized extra functionality to operators (+, -, *, etc.) \n",
    "# when they are used in/on classes we've created\n",
    "\n",
    "# for example, '+' is normally used to add two integers together or concatenate two strings. \n",
    "# But if we use it on objects in a class we've created, it may return unexpected results or cause an error\n",
    "\n",
    "class VectorClass: # create new class 'VectorClass'\n",
    "  def __init__(self, x, y): # each 'VectorClass' object initilizated with two attributes 'x' and 'y'\n",
    "    self.x = x\n",
    "    self.y = y\n",
    "\n",
    "vector_object1 = VectorClass(5, 7) # instantiate 'VectorClass' object\n",
    "vector_object2 = VectorClass(3, 9) # instantiate another 'VectorClass' object\n",
    "\n",
    "print(vector_object1.x) \n",
    "print(vector_object1.y)\n",
    "print()\n",
    "print(vector_object2.x)\n",
    "print(vector_object2.y)\n"
   ]
  },
  {
   "cell_type": "code",
   "execution_count": 4,
   "id": "4690e8d6",
   "metadata": {},
   "outputs": [
    {
     "name": "stdout",
     "output_type": "stream",
     "text": [
      "<__main__.VectorClass object at 0x10ee50160>\n",
      "8\n",
      "16\n"
     ]
    }
   ],
   "source": [
    "# If we try to add the two 'VectorClass' objects together using '+' we will get \"TypeError: unsupported operand type(s) for +: 'VectorClass'\" because Python doesn't know how to use '+' on objects of our new class. \n",
    "# Let's solve the issue with magic method operator overloading:\n",
    "\n",
    "class VectorClass:\n",
    "  def __init__(self, x, y):\n",
    "    self.x = x\n",
    "    self.y = y\n",
    "    \n",
    "  def __add__(self, other): # '__add__' overloads the '+' operator with custom behavior (object to left of '+' is taken as self, object to right of '+' is taken as other)\n",
    "    return VectorClass(self.x + other.x, self.y + other.y) # tells Python when we use + on 'VectorClass' objects to add the corresponding 'x' and 'y' attributes \n",
    "                                                            # and return a new 'VectorClass' object containing the respective sums as its 'x' and 'y' attributes \n",
    "\n",
    "vector_object1 = VectorClass(5, 7)\n",
    "vector_object2 = VectorClass(3, 9)\n",
    "\n",
    "result_object = vector_object1 + vector_object2 # adding the two 'VectorClass' objects using '+'\n",
    "print(result_object) # result in a new 'VectorClass' object\n",
    "print(result_object.x) # its 'x' attribute (sum of the added objects 'x' values)\n",
    "print(result_object.y) # its 'y' attribute (sum of the added objects 'y' values)\n",
    "\n",
    "# examples of some magic methods and the operators they overload:\n",
    "# __init__ for object initialization\n",
    "# __string__ for 'print()'ing the object\n",
    "# __add__ for +\n",
    "# __sub__ for -\n",
    "# __mul__ for *\n",
    "# __truediv__ for /\n",
    "# __floordiv__ for //\n",
    "# __mod__ for %\n",
    "# __pow__ for **\n",
    "# __and__ for &\n",
    "# __xor__ for ^\n",
    "# __or__ for |\n",
    "# __lt__ for <\n",
    "# __le__ for <=\n",
    "# __eq__ for ==\n",
    "# __ne__ for !=\n",
    "# __gt__ for >\n",
    "# __ge__ for >=\n"
   ]
  },
  {
   "cell_type": "code",
   "execution_count": 3,
   "id": "f6e50b8d",
   "metadata": {},
   "outputs": [
    {
     "name": "stdout",
     "output_type": "stream",
     "text": [
      "Whiskers reverse added to Rover\n"
     ]
    }
   ],
   "source": [
    "\n",
    "# the expression 'obj1 + obj2' is translated behind the scenes as 'obj1.__add__(obj2)' \n",
    "# but what if 'obj1' is from a class where '__add__' hasn't been defined?\n",
    "# In that case, Python will look for the corresponding reverse magic method to call from the 'obj2' class.\n",
    "# If it has been defined, 'obj2.__radd__(obj1)' will then be called instead. For example:\n",
    "\n",
    "class DogClass:\n",
    "  def __init__(self, name):\n",
    "    self.name = name\n",
    "\n",
    "class CatClass:\n",
    "  def __init__(self,name):\n",
    "    self.name = name\n",
    "\n",
    "  def __radd__(self,other): # '__radd__' overloads the + operator *only* when the object is right of the '+', *and* the object left of the '+' is from a class where '__add__' has not been defined\n",
    "    return \" reverse added to \".join([self.name, other.name])\n",
    "\n",
    "dogobj = DogClass(\"Rover\")\n",
    "catobj = CatClass(\"Whiskers\")\n",
    "\n",
    "print(dogobj + catobj) # Python tries to call 'dogobj.__add__(cat.obj)' but '_add__' has not been defined for 'DogClass' therefore 'cat_obj.__radd__(dog.obj)' is called instead\n",
    "\n",
    "# note: 'catobj + dogobj' would cause an error because 'CatClass' doesn't have '__add__' defined and 'DogClass' doesn't have '__radd__' defined!\n",
    "\n",
    "# reverse magic methods look the same as magic methods but with an 'r' in front:\n",
    "#__radd__ for +\n",
    "#__rsub__ for -\n",
    "#__rmul__ for * etc.\n"
   ]
  },
  {
   "cell_type": "code",
   "execution_count": 5,
   "id": "fa2b666c",
   "metadata": {},
   "outputs": [
    {
     "name": "stdout",
     "output_type": "stream",
     "text": [
      "Mary: $1700\n"
     ]
    }
   ],
   "source": [
    "# there are several magic methods for making classes act like containers (lists, dicts, etc.)\n",
    "\n",
    "# __len__ for len()\n",
    "# __getitem__ for indexing\n",
    "# __setitem__ for assigning to indexed values\n",
    "# __delitem__ for deleting indexed values\n",
    "# __iter__ for iteration over objects (e.g., in for loops)\n",
    "# __contains__ for in\n",
    "\n",
    "class SalaryListClass: \n",
    "  def __init__ (self, name, salary): \n",
    "    self.employee_name = name\n",
    "    self.employee_salary = salary\n",
    "\n",
    "salarylistobj = SalaryListClass([\"Bob\",\"Todd\",\"Mary\",\"Sue\",\"Tim\"],[1500, 2000, 1700, 2200, 2000])\n",
    "# instantiate 'SalaryListClass' object with list of names as 'employee_name' attribute, list of numbers as 'employee_salary' attribute\n",
    "\n",
    "# If we try to select an item via index from 'salarlylistobj' like 'salarylistobj[2]' we would get \"TypeError: 'SalaryListClass' object is not subscriptable\" \n",
    "# because Python doesn't know how to index objects in this class. We can fix this by defining the '__getitem__' magic method:\n",
    "\n",
    "class SalaryListClass:\n",
    "  def __init__ (self, name, salary):\n",
    "    self.employee_name = name\n",
    "    self.employee_salary = salary\n",
    "\n",
    "  def __getitem__ (self, index):\n",
    "    return self.employee_name[index] + \": $\" + str(self.employee_salary[index])\n",
    "    # tells Python that when a 'SalaryListClass' object is indexed, apply the index to the 'employeename' list and the 'employee_salary' list \n",
    "    # and return the two selected items as a concatenated string \n",
    "    \n",
    "salarylistobj = SalaryListClass([\"Bob\",\"Todd\",\"Mary\",\"Sue\",\"Tim\"],[1500, 2000, 1700, 2200, 2000])\n",
    "\n",
    "print(salarylistobj[2]) # item [2] selected from 'salarylistobj.employee_name' and from 'salarylistobj.employee_salary', concatenated into one string and returned\n",
    "\n",
    "# code and comments by github.com/alandavidgrunberg\n",
    "\n"
   ]
  }
 ],
 "metadata": {
  "kernelspec": {
   "display_name": "Python 3 (ipykernel)",
   "language": "python",
   "name": "python3"
  },
  "language_info": {
   "codemirror_mode": {
    "name": "ipython",
    "version": 3
   },
   "file_extension": ".py",
   "mimetype": "text/x-python",
   "name": "python",
   "nbconvert_exporter": "python",
   "pygments_lexer": "ipython3",
   "version": "3.8.12"
  },
  "toc": {
   "base_numbering": 1,
   "nav_menu": {},
   "number_sections": true,
   "sideBar": true,
   "skip_h1_title": false,
   "title_cell": "Table of Contents",
   "title_sidebar": "Contents",
   "toc_cell": false,
   "toc_position": {},
   "toc_section_display": true,
   "toc_window_display": false
  }
 },
 "nbformat": 4,
 "nbformat_minor": 5
}
