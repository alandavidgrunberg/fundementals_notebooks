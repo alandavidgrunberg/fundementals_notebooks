{
 "cells": [
  {
   "cell_type": "code",
   "execution_count": 1,
   "id": "9030de42",
   "metadata": {},
   "outputs": [
    {
     "name": "stdout",
     "output_type": "stream",
     "text": [
      "X\n",
      "black\n",
      "Generic noise!\n",
      "\n",
      "Victor\n",
      "white\n",
      "Moo\n",
      "\n",
      "Fido\n",
      "brown\n",
      "Woof!\n"
     ]
    }
   ],
   "source": [
    "## Inheritance & super()\n",
    "\n",
    "#           AnimalClass\n",
    "#               _|_\n",
    "#              /   \\\n",
    "#     CowClass      DogClass\n",
    "\n",
    "class AnimalClass: # superclass \n",
    "    def __init__(self, name, color): # superclass object initialization parameters, inherited by subclasses\n",
    "        self.objname = name\n",
    "        self.objcolor = color\n",
    "    \n",
    "    def speak(self): # superclass object method, inherited by subclasses\n",
    "        print(\"Generic noise!\")\n",
    "\n",
    "class CowClass(AnimalClass): # subclass inheriting from superclass\n",
    "    def speak(self): # subclass object method overrides superclass object method with same name\n",
    "        print(\"Moo\")\n",
    "        \n",
    "class DogClass(AnimalClass): # another subclass inheriting from same superclass\n",
    "    def speak(self): # subclass object method overrides superclass object method with same name\n",
    "        print(\"Woof!\")\n",
    "        \n",
    "\n",
    "animal_object = AnimalClass(\"X\", \"black\")\n",
    "print(animal_object.objname)\n",
    "print(animal_object.objcolor)\n",
    "animal_object.speak()\n",
    "print()\n",
    "\n",
    "cow_object = CowClass(\"Victor\", \"white\")\n",
    "print(cow_object.objname)\n",
    "print(cow_object.objcolor)\n",
    "cow_object.speak()\n",
    "print()\n",
    "\n",
    "dog_object = DogClass(\"Fido\", \"brown\")\n",
    "print(dog_object.objname)\n",
    "print(dog_object.objcolor)\n",
    "dog_object.speak()\n"
   ]
  },
  {
   "cell_type": "code",
   "execution_count": 2,
   "id": "399c63c7",
   "metadata": {},
   "outputs": [
    {
     "name": "stdout",
     "output_type": "stream",
     "text": [
      "Jenkins\n",
      "79\n",
      "get off my lawn!\n",
      "\n",
      "Bob\n",
      "48\n",
      "drinking a beer!\n",
      "\n",
      "Timmy\n",
      "12\n",
      "homework sucks!\n"
     ]
    }
   ],
   "source": [
    "\n",
    "#           GrandpaClass\n",
    "#                |\n",
    "#             DadClass\n",
    "#                |\n",
    "#             SonClass\n",
    "\n",
    "\n",
    "class GrandpaClass: # superclass to 'DadClass'\n",
    "    def __init__(self, name, age): # superclass object initialization parameters, inherited by subclasses and below \n",
    "        self.objname = name\n",
    "        self.objage = age\n",
    "    \n",
    "    def speak(self):\n",
    "        print(\"get off my lawn!\")\n",
    "\n",
    "class DadClass(GrandpaClass): # subclass of 'GrandpaClass', superclass to 'SonClass'\n",
    "    def speak(self):\n",
    "        print(\"drinking a beer!\")\n",
    "        \n",
    "class SonClass(DadClass): # subclass of 'DadClass'\n",
    "    def speak(self):\n",
    "        print(\"homework sucks!\")\n",
    "\n",
    "grandpa_object = GrandpaClass(\"Jenkins\", \"79\")\n",
    "print(grandpa_object.objname)\n",
    "print(grandpa_object.objage)\n",
    "grandpa_object.speak()\n",
    "print()\n",
    "\n",
    "dad_object = DadClass(\"Bob\", \"48\")\n",
    "print(dad_object.objname)\n",
    "print(dad_object.objage)\n",
    "dad_object.speak()\n",
    "print()\n",
    "\n",
    "son_object = SonClass(\"Timmy\", \"12\")\n",
    "print(son_object.objname)\n",
    "print(son_object.objage)\n",
    "son_object.speak()\n"
   ]
  },
  {
   "cell_type": "code",
   "execution_count": 3,
   "id": "0f9da6cd",
   "metadata": {},
   "outputs": [
    {
     "name": "stdout",
     "output_type": "stream",
     "text": [
      "Burns\n",
      "get the job done!\n",
      "\n",
      "Homer\n",
      "i gotta work!\n",
      "get the job done!\n"
     ]
    }
   ],
   "source": [
    "#            BossClass\n",
    "#                |\n",
    "#           WorkerClass\n",
    "\n",
    "class BossClass: # superclass \n",
    "    def __init__(self, name):\n",
    "        self.objname = name\n",
    "    \n",
    "    def speak(self):\n",
    "        print(\"get the job done!\")\n",
    "\n",
    "class WorkerClass(BossClass): # subclass \n",
    "    def speak(self):\n",
    "        print(\"i gotta work!\")\n",
    "        super().speak() # 'super()' finds method with given name '.speak()' from the superclass, passes it to the subclass\n",
    "        \n",
    "boss_object = BossClass(\"Burns\")\n",
    "print(boss_object.objname)\n",
    "boss_object.speak() # superclass object calls 'speak()' method, which prints \"i gotta work!\"\n",
    "print()\n",
    "\n",
    "worker_object = WorkerClass(\"Homer\")\n",
    "print(worker_object.objname)\n",
    "worker_object.speak() # subclass object calls '.speak()' method, which prints \"i gotta work!\" and then uses 'super()' to call superclass '.speak()' method, which prints \"get the job done\"\n",
    "\n",
    "# code and comments by github.com/alandavidgrunberg\n"
   ]
  }
 ],
 "metadata": {
  "kernelspec": {
   "display_name": "Python 3 (ipykernel)",
   "language": "python",
   "name": "python3"
  },
  "language_info": {
   "codemirror_mode": {
    "name": "ipython",
    "version": 3
   },
   "file_extension": ".py",
   "mimetype": "text/x-python",
   "name": "python",
   "nbconvert_exporter": "python",
   "pygments_lexer": "ipython3",
   "version": "3.8.12"
  },
  "toc": {
   "base_numbering": 1,
   "nav_menu": {},
   "number_sections": true,
   "sideBar": true,
   "skip_h1_title": false,
   "title_cell": "Table of Contents",
   "title_sidebar": "Contents",
   "toc_cell": false,
   "toc_position": {},
   "toc_section_display": true,
   "toc_window_display": false
  }
 },
 "nbformat": 4,
 "nbformat_minor": 5
}
