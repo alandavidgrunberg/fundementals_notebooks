{
 "cells": [
  {
   "cell_type": "code",
   "execution_count": 5,
   "id": "95da093f",
   "metadata": {},
   "outputs": [
    {
     "name": "stdout",
     "output_type": "stream",
     "text": [
      "<__main__.RectangleClass object at 0x103e416d0>\n",
      "4\n",
      "6\n",
      "24\n",
      "\n",
      "<__main__.RectangleClass object at 0x103e41e80>\n",
      "5\n",
      "5\n",
      "25\n"
     ]
    }
   ],
   "source": [
    "## Class Methods & Static Methods\n",
    "\n",
    "# class methods\n",
    "\n",
    "class RectangleClass:\n",
    "  def __init__(self, width, height): # the class constructor: instantiates new objects of class initialized with two attributes: 'width' and 'height'\n",
    "    self.width = width\n",
    "    self.height = height\n",
    "\n",
    "# object method: called by an object of the class, accesses the object via first parameter 'self'\n",
    "  def calculate_area(self):\n",
    "    return self.width * self.height # object's area found by multiplying its 'width' and 'height' attributes\n",
    "   \n",
    "# class method: called by the class itself, accesses the class via first parameter 'cls'\n",
    "  @classmethod # @decorator tells Python the method is a class method, and thus the first parameter 'cls' should access the class (otherwise Python would treat the method as an object method, and thus treat its first parameter as 'self' accessing an object)\n",
    "  def new_square(cls, side_length): # method takes two parameters: 'cls' and 'side_length'\n",
    "    return cls(side_length, side_length) # it uses 'cls' to access 'RectangleClass' and instantiate a new object where the 'sidelength' value is passed as both 'width' and 'height'. essentially, this allows us to create a new 'RectangleClass' object by passing only one argument to the constructor instead of two\n",
    "\n",
    "rect1 = RectangleClass(4,6) # instantiating a new 'RectangleClass' object, passing two arguments \n",
    "print(rect1)\n",
    "print(rect1.width)\n",
    "print(rect1.height)\n",
    "print(rect1.calculate_area()) # calling the object method 'calculate_area' to find the object's area\n",
    "\n",
    "print()\n",
    "\n",
    "rect2 = RectangleClass.new_square(5) # using the class method 'new_square()' to instantiate a new 'RectangleClass' object passing only one argument!\n",
    "print(rect2)\n",
    "print(rect2.width)\n",
    "print(rect2.height)\n",
    "print(rect2.calculate_area())\n",
    "\n",
    "# the class method 'new_square()' is what is known as a \"factory method\": it instantiates an object of the class, using different parameters than those usually passed to the class constructor. class methods are often used as factory methods in this way\n"
   ]
  },
  {
   "cell_type": "code",
   "execution_count": 2,
   "id": "fe982bf4",
   "metadata": {},
   "outputs": [
    {
     "name": "stdout",
     "output_type": "stream",
     "text": [
      "<__main__.AnimalClass object at 0x103e78610>\n",
      "name: Bob\n",
      "eyes: 2\n",
      "legs: 2\n",
      "\n",
      "<__main__.AnimalClass object at 0x103e78a00>\n",
      "name: Whiskers\n",
      "eyes: 2\n",
      "legs: 4\n",
      "\n",
      "<__main__.AnimalClass object at 0x103e78a90>\n",
      "name: Charlotte\n",
      "eyes: 8\n",
      "legs: 6\n",
      "\n",
      "<__main__.AnimalClass object at 0x103e83490>\n",
      "name: Octy\n",
      "eyes: 2\n",
      "legs: 8\n",
      "\n"
     ]
    }
   ],
   "source": [
    "# here's another example of class methods used as factory methods:\n",
    "\n",
    "class AnimalClass:\n",
    "    def __init__ (self, name, n_eyes, n_legs): # class constructor: sets 3 attributes with 3 parameters \n",
    "        self.name = name\n",
    "        self.eyes = n_eyes\n",
    "        self.legs = n_legs\n",
    "    \n",
    "    def describe(self): # object method: called by object, accesses the object via \"self\"\n",
    "        print(self)\n",
    "        print(\"name:\", self.name)\n",
    "        print(\"eyes:\", self.eyes)\n",
    "        print (\"legs:\",self.legs)\n",
    "        print()\n",
    "    \n",
    "    @classmethod # class method: called by the class, accesses the class via \"cls\"\n",
    "    def human(cls, name):\n",
    "        return cls(name, 2, 2)\n",
    "        \n",
    "    @classmethod # \"\n",
    "    def cat(cls, name):\n",
    "        return cls(name, 2, 4)\n",
    "        \n",
    "    @classmethod # \"\n",
    "    def spider(cls, name):\n",
    "        return cls(name, 8, 6)\n",
    "\n",
    "animal1 = AnimalClass.human(\"Bob\") # using class method to create 'AnimalClass' object passing only 1 argument\n",
    "animal2 = AnimalClass.cat(\"Whiskers\") # \"\n",
    "animal3 = AnimalClass.spider(\"Charlotte\") # \"\n",
    "\n",
    "animal1.describe() # calling object method\n",
    "animal2.describe() # \"\n",
    "animal3.describe() # \"\n",
    "\n",
    "# 'human()' 'cat()' & 'spider()' are factory methods. They allow us to create new 'AnimalClass' objects more quickly and efficiently. We only need to set the 'name' attribute; the class methods fill in the number of eyes and legs\n",
    "\n",
    "# Of course we can still create new 'AnimalClass' objects the \"regular\" way using the class constructor directly if we need to. For example, if we want to create an object that doesn't fit any of the preexisting factory methods, like an octopus:\n",
    "\n",
    "animal4 = AnimalClass(\"Octy\", 2, 8)\n",
    "animal4.describe()\n"
   ]
  },
  {
   "cell_type": "code",
   "execution_count": 1,
   "id": "e6e15094",
   "metadata": {},
   "outputs": [
    {
     "name": "stdout",
     "output_type": "stream",
     "text": [
      "<__main__.PizzaClass object at 0x10c503ca0>\n",
      "['cheese', 'onions', 'garlic']\n",
      "\n",
      "sorry, no meat allowed!\n"
     ]
    }
   ],
   "source": [
    "# static methods\n",
    "\n",
    "# static methods are simply normal functions that are packaged within a class for organization/style reasons. They don't receive a 'self' parameter to access the object (like object methods) or a 'cls' method to access the class (like class methods)\n",
    "\n",
    "class PizzaClass:\n",
    "    def __init__(self,toppings):\n",
    "        self.toppings = toppings\n",
    "        \n",
    "    @staticmethod # @decorator tells Python the method is a static method, and thus the first parameter should not access the object or class \n",
    "    def check(order): \n",
    "        if order == 'meat':\n",
    "            print('sorry, no meat allowed!')\n",
    "            return False \n",
    "        else:\n",
    "            return True\n",
    "        \n",
    "order1 = ['cheese','onions','garlic'] # list of ingredients first customer wants on pizza\n",
    "order2 = ['cheese','spinach','meat'] # list of ingredients second customer wants on pizza\n",
    "\n",
    "\n",
    "if all(PizzaClass.check(i) for i in order1): # calling static method 'check()' from 'PizzaClass' to check 'order1' list for meat. if there is no meat, instantiates a new 'PizzaClass' object\n",
    "    pizza1 = PizzaClass(order1)\n",
    "    print(pizza1)\n",
    "    print(pizza1.toppings)\n",
    "    print()\n",
    "\n",
    "if all(PizzaClass.check(i) for i in order2): # calling static method 'check()' from 'PizzaClass' to check 'order2' list for meat. if there is no meat, instantiates a new 'PizzaClass' object\n",
    "    # because 'check()' did find meat, none of the code after the 'if' clause runs:\n",
    "    pizza2 = PizzaClass(order2) \n",
    "    print(pizza2)\n",
    "    print(pizza2.toppings)\n",
    "    print()\n",
    "    \n",
    "# because 'check()' is a static method, it would still work if defined as a normal function outside of 'PizzaClass'. However, it makes sense to package it in the class it is used in to keep the code clean and well organized\n",
    "\n",
    "# code and comments by github.com/alandavidgrunberg\n"
   ]
  }
 ],
 "metadata": {
  "kernelspec": {
   "display_name": "Python 3 (ipykernel)",
   "language": "python",
   "name": "python3"
  },
  "language_info": {
   "codemirror_mode": {
    "name": "ipython",
    "version": 3
   },
   "file_extension": ".py",
   "mimetype": "text/x-python",
   "name": "python",
   "nbconvert_exporter": "python",
   "pygments_lexer": "ipython3",
   "version": "3.8.12"
  },
  "toc": {
   "base_numbering": 1,
   "nav_menu": {},
   "number_sections": true,
   "sideBar": true,
   "skip_h1_title": false,
   "title_cell": "Table of Contents",
   "title_sidebar": "Contents",
   "toc_cell": false,
   "toc_position": {},
   "toc_section_display": true,
   "toc_window_display": false
  }
 },
 "nbformat": 4,
 "nbformat_minor": 5
}
