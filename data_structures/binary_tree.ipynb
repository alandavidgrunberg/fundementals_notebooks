{
 "cells": [
  {
   "cell_type": "code",
   "execution_count": 1,
   "id": "da01dbf1",
   "metadata": {},
   "outputs": [
    {
     "name": "stdout",
     "output_type": "stream",
     "text": [
      "      /  7\n",
      "   /  3\n",
      "      \\  6\n",
      "1\n",
      "      /  5\n",
      "   \\  2\n",
      "      \\  4\n"
     ]
    }
   ],
   "source": [
    "class Node:\n",
    "\tdef __init__(self, data):\n",
    "\t\tself.data = data\n",
    "\t\tself.left = None\n",
    "\t\tself.right = None\n",
    "\t\n",
    "def print_tree(root, space=0, t=0):\n",
    "\tCOUNT = 3\n",
    "\n",
    "\tif root is None:\n",
    "\t\treturn\n",
    "\t\n",
    "\tspace += COUNT\n",
    "\n",
    "\tprint_tree(root.right, space, 1)\n",
    "\n",
    "\tfor x in range(COUNT, space):\n",
    "\t\tprint(\" \",end = \"\")\n",
    "\t  \n",
    "\tif t == 1 : # Right node\n",
    "\t\tprint(\"/ \", root.data)  \n",
    "\telif t == 2 : # Left node\n",
    "\t\tprint(\"\\ \", root.data)\n",
    "\telse: # Root node\n",
    "\t\tprint(root.data)\n",
    "\t  \n",
    "\t#Process left child\n",
    "\tprint_tree(root.left, space, 2)\n",
    "\n",
    "\n",
    "root = Node(1)\n",
    "root.left = Node(2)\n",
    "root.right = Node(3)\n",
    "root.left.left = Node(4)\n",
    "root.left.right = Node(5)\n",
    "root.right.left = Node(6)\n",
    "root.right.right = Node(7)\n",
    "\n",
    "print_tree(root)\n",
    "\n",
    "# code and comments by github.com/alandavidgrunberg"
   ]
  }
 ],
 "metadata": {
  "kernelspec": {
   "display_name": "Python 3 (ipykernel)",
   "language": "python",
   "name": "python3"
  },
  "language_info": {
   "codemirror_mode": {
    "name": "ipython",
    "version": 3
   },
   "file_extension": ".py",
   "mimetype": "text/x-python",
   "name": "python",
   "nbconvert_exporter": "python",
   "pygments_lexer": "ipython3",
   "version": "3.8.12"
  },
  "toc": {
   "base_numbering": 1,
   "nav_menu": {},
   "number_sections": true,
   "sideBar": true,
   "skip_h1_title": false,
   "title_cell": "Table of Contents",
   "title_sidebar": "Contents",
   "toc_cell": false,
   "toc_position": {},
   "toc_section_display": true,
   "toc_window_display": false
  }
 },
 "nbformat": 4,
 "nbformat_minor": 5
}
