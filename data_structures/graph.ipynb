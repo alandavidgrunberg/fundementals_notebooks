{
 "cells": [
  {
   "cell_type": "code",
   "execution_count": 1,
   "id": "f1010709",
   "metadata": {},
   "outputs": [
    {
     "name": "stdout",
     "output_type": "stream",
     "text": [
      "\n",
      " x 0 0 0\n",
      " 0 x 0 0\n",
      " 0 0 x 0\n",
      " 0 0 0 x\n",
      "\n",
      " x 1 0 1\n",
      " 1 x 1 0\n",
      " 0 1 x 0\n",
      " 1 0 0 x\n",
      "\n",
      " x 0 0 0\n",
      " 0 x 1 0\n",
      " 0 1 x 0\n",
      " 0 0 0 x\n",
      "\n",
      "Invalid Edge\n",
      "Invalid Edge\n",
      "Invalid Edge\n"
     ]
    }
   ],
   "source": [
    "# adjacency matrix, undirected graph\n",
    "\n",
    "class Graph(): \n",
    "\tdef __init__(self, size):\n",
    "\t\tself.size = size\n",
    "\t\tself.adj = [ [0] * size for i in range(size)]\n",
    "\t\tfor i in range(self.size):\n",
    "\t\t\tself.adj[i][i] = \"x\"\n",
    "\t\t\n",
    "\tdef add_edge(self, orig, dest): \n",
    "\t\tif (orig and dest) in range(1,self.size + 1) and orig != dest:\n",
    "\t\t\tself.adj[orig-1][dest-1] = 1 \n",
    "\t\t\tself.adj[dest-1][orig-1] = 1 \n",
    "\t\telse: \n",
    "\t\t\tprint(\"Invalid Edge\")\n",
    "\t\t\n",
    "\tdef remove_edge(self, orig, dest): \n",
    "\t\tif (orig and dest) in range(1,self.size + 1) and orig != dest: \n",
    "\t\t\tself.adj[orig-1][dest-1] = 0\n",
    "\t\t\tself.adj[dest-1][orig-1] = 0\n",
    "\t\telse: \n",
    "\t\t\tprint(\"Invalid Edge\")\n",
    "\t\t\t\n",
    "\tdef display(self): \n",
    "\t\tfor row in self.adj: \n",
    "\t\t\tprint() \n",
    "\t\t\tfor val in row: \n",
    "\t\t\t\tprint(' {}'.format(val),end=\"\")\t\t\t\t\n",
    "\n",
    "# sample graph \n",
    "G = Graph(4)\n",
    "G.display()\n",
    "\n",
    "print()\n",
    "\n",
    "G.add_edge(1, 2) \n",
    "G.add_edge(1, 4)\n",
    "G.add_edge(2, 3)\n",
    "G.display()\n",
    "\n",
    "print()\n",
    "\n",
    "G.remove_edge(1,2)\n",
    "G.remove_edge(1,4)\n",
    "G.display()\n",
    "\n",
    "print()\n",
    "print()\n",
    "\n",
    "G.add_edge(2,0)\n",
    "G.add_edge(3,5)\n",
    "G.add_edge(4,4)\n",
    "\n",
    "# code and comments by github.com/alandavidgrunberg\n"
   ]
  }
 ],
 "metadata": {
  "kernelspec": {
   "display_name": "Python 3 (ipykernel)",
   "language": "python",
   "name": "python3"
  },
  "language_info": {
   "codemirror_mode": {
    "name": "ipython",
    "version": 3
   },
   "file_extension": ".py",
   "mimetype": "text/x-python",
   "name": "python",
   "nbconvert_exporter": "python",
   "pygments_lexer": "ipython3",
   "version": "3.8.12"
  },
  "toc": {
   "base_numbering": 1,
   "nav_menu": {},
   "number_sections": true,
   "sideBar": true,
   "skip_h1_title": false,
   "title_cell": "Table of Contents",
   "title_sidebar": "Contents",
   "toc_cell": false,
   "toc_position": {},
   "toc_section_display": true,
   "toc_window_display": false
  }
 },
 "nbformat": 4,
 "nbformat_minor": 5
}
