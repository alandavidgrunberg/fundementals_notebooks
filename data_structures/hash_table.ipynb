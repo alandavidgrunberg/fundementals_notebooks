{
 "cells": [
  {
   "cell_type": "code",
   "execution_count": 3,
   "id": "21e6ac42",
   "metadata": {},
   "outputs": [
    {
     "name": "stdout",
     "output_type": "stream",
     "text": [
      "0x10b859d70\n",
      "0x10b814ab0\n",
      "0x10b814a30\n",
      "\n",
      "No Element found with value D\n",
      "Element with value A deleted\n",
      "\n",
      "None\n"
     ]
    }
   ],
   "source": [
    "# hash table: data structure matching keys to values\n",
    "\n",
    "class hash_table:\n",
    "\tdef __init__(self):\n",
    "\t\tself.table = [None] * 127 # 127 shelves (index 0 to 126)\n",
    "\t\n",
    "\t# Hash function\n",
    "\tdef Hash_func(self, value): # pass string value\n",
    "\t\tkey = 0\n",
    "\t\tfor i in range(0,len(value)): # for each character in string\n",
    "\t\t\tkey += ord(value[i]) # find unicode value, sum all values together\n",
    "\t\treturn key % 127 # divide sum by 127, remainder is the hash key (will be between 0 and 126)\n",
    "\n",
    "\tdef Insert(self, value): # pass string value\n",
    "\t\thash = self.Hash_func(value) # pass to 'Hash_func()' to find hash key\n",
    "\t\tif self.table[hash] is None: # check shelf with index matching hash key\n",
    "\t\t\tself.table[hash] = value # if shelf is empty, assign the string value \n",
    "   \n",
    "\tdef Search(self,value): # pass string value\n",
    "\t\thash = self.Hash_func(value); # pass to 'Hash_func()' to find hash key\n",
    "\t\tif self.table[hash] is None: # check shelf with index matching hash key\n",
    "\t\t\treturn None # if shelf is empty, table doesn't contain the string value, return None\n",
    "\t\telse:\n",
    "\t\t\treturn hex(id(self.table[hash])) # otherwise return memory address of the shelf\n",
    "  \n",
    "\tdef Remove(self,value): # pass string value\n",
    "\t\thash = self.Hash_func(value); # pass to 'Hash_func()' to find hash key\n",
    "\t\tif self.table[hash] is None: # check shelf with index matching hash key\n",
    "\t\t\tprint(\"No Element found with value\", value) # if shelf is empty, table doesn't contain the string value, nothing to remove\n",
    "\t\telse:\n",
    "\t\t\tprint(\"Element with value\", value, \"deleted\")\n",
    "\t\t\tself.table[hash] = None; # if shelf is not empty, table does contain string value, remove it by reassigning shelf to None\n",
    "\t\t\n",
    "\t\t\n",
    "H = hash_table()\n",
    "\n",
    "H.Insert(\"A\")\n",
    "H.Insert(\"B\")\n",
    "H.Insert(\"C\")\n",
    "\n",
    "print(H.Search(\"A\"))\n",
    "print(H.Search(\"B\"))\n",
    "print(H.Search(\"C\"))\n",
    "print()\n",
    "H.Remove(\"D\")\n",
    "H.Remove(\"A\")\n",
    "print()\n",
    "print(H.Search(\"A\"))\n",
    "\n",
    "# collisions are unavoidable. for example, 'ABC' and 'CAB' would generate the same hash key\n",
    "# collisions cannot be avoided but minimized with more complex algorithms\n",
    "# collisions can be handled in different ways, for example by having the hash function point not directly to the value but to a linked list \n",
    "\n",
    "# code and comments by github.com/alandavidgrunberg\n"
   ]
  }
 ],
 "metadata": {
  "kernelspec": {
   "display_name": "Python 3 (ipykernel)",
   "language": "python",
   "name": "python3"
  },
  "language_info": {
   "codemirror_mode": {
    "name": "ipython",
    "version": 3
   },
   "file_extension": ".py",
   "mimetype": "text/x-python",
   "name": "python",
   "nbconvert_exporter": "python",
   "pygments_lexer": "ipython3",
   "version": "3.8.12"
  },
  "toc": {
   "base_numbering": 1,
   "nav_menu": {},
   "number_sections": true,
   "sideBar": true,
   "skip_h1_title": false,
   "title_cell": "Table of Contents",
   "title_sidebar": "Contents",
   "toc_cell": false,
   "toc_position": {},
   "toc_section_display": true,
   "toc_window_display": false
  }
 },
 "nbformat": 4,
 "nbformat_minor": 5
}
