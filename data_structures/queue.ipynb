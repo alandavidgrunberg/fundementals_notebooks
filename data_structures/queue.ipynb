{
 "cells": [
  {
   "cell_type": "code",
   "execution_count": 1,
   "id": "b0ce62c1",
   "metadata": {},
   "outputs": [
    {
     "name": "stdout",
     "output_type": "stream",
     "text": [
      "rear -> ['z', 'y', 'x'] -> front\n",
      "rear -> ['z', 'y'] -> front\n"
     ]
    }
   ],
   "source": [
    "class Queue:\n",
    "\tdef __init__(self):\n",
    "\t\tself.items = []\n",
    "\n",
    "\tdef is_empty(self):\n",
    "\t\treturn self.items == []\n",
    "\n",
    "\tdef enqueue(self, item):\n",
    "\t\tself.items.insert(0, item)\n",
    "\n",
    "\tdef dequeue(self):\n",
    "\t\treturn self.items.pop()\n",
    "\n",
    "\tdef print_queue(self):\n",
    "\t\tprint(\"rear ->\", end = \" \")\n",
    "\t\tprint(self.items, end= \" -> front\")\n",
    "\t\tprint()\n",
    "\n",
    "q = Queue()\n",
    "q.enqueue('x') # First In\n",
    "q.enqueue('y')\n",
    "q.enqueue('z')\n",
    "q.print_queue()\n",
    "\n",
    "q.dequeue() # First Out\n",
    "q.print_queue()\n",
    "\n",
    "# code by github.com/alandavidgrunberg"
   ]
  }
 ],
 "metadata": {
  "kernelspec": {
   "display_name": "Python 3 (ipykernel)",
   "language": "python",
   "name": "python3"
  },
  "language_info": {
   "codemirror_mode": {
    "name": "ipython",
    "version": 3
   },
   "file_extension": ".py",
   "mimetype": "text/x-python",
   "name": "python",
   "nbconvert_exporter": "python",
   "pygments_lexer": "ipython3",
   "version": "3.8.12"
  },
  "toc": {
   "base_numbering": 1,
   "nav_menu": {},
   "number_sections": true,
   "sideBar": true,
   "skip_h1_title": false,
   "title_cell": "Table of Contents",
   "title_sidebar": "Contents",
   "toc_cell": false,
   "toc_position": {},
   "toc_section_display": true,
   "toc_window_display": false
  }
 },
 "nbformat": 4,
 "nbformat_minor": 5
}
