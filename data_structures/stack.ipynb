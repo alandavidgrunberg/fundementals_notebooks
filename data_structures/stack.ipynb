{
 "cells": [
  {
   "cell_type": "code",
   "execution_count": 1,
   "id": "47997b60",
   "metadata": {},
   "outputs": [
    {
     "name": "stdout",
     "output_type": "stream",
     "text": [
      "['a', 'b', 'c'] <-> top\n",
      "['a', 'b'] <-> top\n"
     ]
    }
   ],
   "source": [
    "class Stack:\n",
    "\tdef __init__(self):\n",
    "\t\tself.items = []  \n",
    "  \n",
    "\tdef is_empty(self):\n",
    "\t\treturn self.items == []\n",
    "  \n",
    "\tdef push(self, item):\n",
    "\t\tself.items.append(item)\n",
    "\t\n",
    "\tdef pop(self):\n",
    "\t\treturn self.items.pop()\n",
    "\t\n",
    "\tdef print_stack(self):\n",
    "\t\tprint(self.items, end = \" \")\n",
    "\t\tprint(\"<-> top\")\n",
    "\t\n",
    "s = Stack()\n",
    "s.push('a')\n",
    "s.push('b')\n",
    "s.push('c') # Last In\n",
    "s.print_stack()\n",
    "\n",
    "s.pop() # First Out\n",
    "s.print_stack()\n",
    "\n",
    "# code by github.com/alandavidgrunberg"
   ]
  }
 ],
 "metadata": {
  "kernelspec": {
   "display_name": "Python 3 (ipykernel)",
   "language": "python",
   "name": "python3"
  },
  "language_info": {
   "codemirror_mode": {
    "name": "ipython",
    "version": 3
   },
   "file_extension": ".py",
   "mimetype": "text/x-python",
   "name": "python",
   "nbconvert_exporter": "python",
   "pygments_lexer": "ipython3",
   "version": "3.8.12"
  },
  "toc": {
   "base_numbering": 1,
   "nav_menu": {},
   "number_sections": true,
   "sideBar": true,
   "skip_h1_title": false,
   "title_cell": "Table of Contents",
   "title_sidebar": "Contents",
   "toc_cell": false,
   "toc_position": {},
   "toc_section_display": true,
   "toc_window_display": false
  }
 },
 "nbformat": 4,
 "nbformat_minor": 5
}
