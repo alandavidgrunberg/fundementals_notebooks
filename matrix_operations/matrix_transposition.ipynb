{
 "cells": [
  {
   "cell_type": "code",
   "execution_count": 1,
   "id": "103e8b0f",
   "metadata": {},
   "outputs": [
    {
     "name": "stdout",
     "output_type": "stream",
     "text": [
      "[12, 4, 3]\n",
      "[7, 5, 8]\n"
     ]
    }
   ],
   "source": [
    "# transposition swaps rows and columns of a matrix\n",
    "\n",
    "A = [[12,7], # 2 x 3\n",
    "\t[4,5],\n",
    "\t[3,8]]\n",
    "\n",
    "T = [[0,0,0],\n",
    "\t[0,0,0]] # transpose will be 3 x 2\n",
    "\t \n",
    "for k in range(len(A)): # iterate thru each row\n",
    "\tfor j in range(len(A[0])): # iterate thru each val\n",
    "\t\tT[j][k] = A[k][j] # flipping row and col cordinate of each val\n",
    "\n",
    "for r in T:\n",
    "\tprint(r)\n",
    "\n",
    "# code and comments by github.com/alandavidgrunberg"
   ]
  }
 ],
 "metadata": {
  "kernelspec": {
   "display_name": "Python 3 (ipykernel)",
   "language": "python",
   "name": "python3"
  },
  "language_info": {
   "codemirror_mode": {
    "name": "ipython",
    "version": 3
   },
   "file_extension": ".py",
   "mimetype": "text/x-python",
   "name": "python",
   "nbconvert_exporter": "python",
   "pygments_lexer": "ipython3",
   "version": "3.8.12"
  },
  "toc": {
   "base_numbering": 1,
   "nav_menu": {},
   "number_sections": true,
   "sideBar": true,
   "skip_h1_title": false,
   "title_cell": "Table of Contents",
   "title_sidebar": "Contents",
   "toc_cell": false,
   "toc_position": {},
   "toc_section_display": true,
   "toc_window_display": false
  }
 },
 "nbformat": 4,
 "nbformat_minor": 5
}
