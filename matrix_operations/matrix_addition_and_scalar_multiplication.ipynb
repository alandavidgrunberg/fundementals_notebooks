{
 "cells": [
  {
   "cell_type": "code",
   "execution_count": 1,
   "id": "6dbe9f6e",
   "metadata": {},
   "outputs": [
    {
     "name": "stdout",
     "output_type": "stream",
     "text": [
      "[17, 15, 4]\n",
      "[10, 12, 9]\n",
      "[11, 13, 18]\n"
     ]
    }
   ],
   "source": [
    "# addition\n",
    "\n",
    "A = [[12,7,3],\n",
    "\t[4,5,6],\n",
    "\t[7,8,9]]\n",
    "\n",
    "B = [[5,8,1],\n",
    "\t[6,7,3],\n",
    "\t[4,5,9]]\n",
    "\n",
    "result = [[0,0,0],\n",
    "\t\t [0,0,0],\n",
    "\t\t [0,0,0]]\n",
    "\t\n",
    "for k in range(len(A)): # move down rows\n",
    "\tfor j in range(len(A[0])): # and across columns\n",
    "\t\tresult[k][j] = A[k][j]+B[k][j] # summing corresponding points from matrix A and B\n",
    "\n",
    "for r in result:\n",
    "\tprint(r)"
   ]
  },
  {
   "cell_type": "code",
   "execution_count": 3,
   "id": "a34e9311",
   "metadata": {},
   "outputs": [
    {
     "name": "stdout",
     "output_type": "stream",
     "text": [
      "[36, 21, 9]\n",
      "[12, 15, 18]\n",
      "[21, 24, 27]\n"
     ]
    }
   ],
   "source": [
    "# scalar multiplication\n",
    "\n",
    "A = [[12,7,3],\n",
    "\t[4,5,6],\n",
    "\t[7,8,9]]\n",
    "\n",
    "result2 = [[0,0,0],\n",
    "\t\t [0,0,0],\n",
    "\t\t [0,0,0]]\n",
    "\n",
    "for k in range(len(A)): # move down rows\n",
    "\tfor j in range(len(A[0])): # and across columns\t\t\n",
    "\t\tresult2[k][j] = 3 * A[k][j] # multiplying points by 3\n",
    "\n",
    "for r in result2:\n",
    "\tprint(r)\n",
    "    \n",
    "# code and comments by github.com/alandavidgrunberg"
   ]
  }
 ],
 "metadata": {
  "kernelspec": {
   "display_name": "Python 3 (ipykernel)",
   "language": "python",
   "name": "python3"
  },
  "language_info": {
   "codemirror_mode": {
    "name": "ipython",
    "version": 3
   },
   "file_extension": ".py",
   "mimetype": "text/x-python",
   "name": "python",
   "nbconvert_exporter": "python",
   "pygments_lexer": "ipython3",
   "version": "3.8.12"
  },
  "toc": {
   "base_numbering": 1,
   "nav_menu": {},
   "number_sections": true,
   "sideBar": true,
   "skip_h1_title": false,
   "title_cell": "Table of Contents",
   "title_sidebar": "Contents",
   "toc_cell": false,
   "toc_position": {},
   "toc_section_display": true,
   "toc_window_display": false
  }
 },
 "nbformat": 4,
 "nbformat_minor": 5
}
