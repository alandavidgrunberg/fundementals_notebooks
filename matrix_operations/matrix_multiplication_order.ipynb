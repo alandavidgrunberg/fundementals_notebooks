{
 "cells": [
  {
   "cell_type": "code",
   "execution_count": 2,
   "id": "52397cc7",
   "metadata": {},
   "outputs": [
    {
     "name": "stdout",
     "output_type": "stream",
     "text": [
      "[[10 13]\n",
      " [28 40]]\n"
     ]
    }
   ],
   "source": [
    "import numpy as np\n",
    "\n",
    "a = np.array([[0,1,2],[3,4,5]]) #shape (2,3)\n",
    "b = np.array([[0,1],[2,3],[4,5]]) #shape (3,2)\n",
    "\n",
    "print(a @ b) #or np.dot(a,b) #returns shape (2,2)\n",
    "\n",
    "#   0 1 2  @  0 1  =  10 13\n",
    "#   3 4 5     2 3     28 40\n",
    "#             4 5"
   ]
  },
  {
   "cell_type": "code",
   "execution_count": 3,
   "id": "e5f160d0",
   "metadata": {},
   "outputs": [
    {
     "name": "stdout",
     "output_type": "stream",
     "text": [
      "[[ 3  4  5]\n",
      " [ 9 14 19]\n",
      " [15 24 33]]\n"
     ]
    }
   ],
   "source": [
    "print(b @ a) #or np.dot(b,a) #returns shape (3,3)\n",
    "\n",
    "#   0 1  @  0 1 2  =  3  4  5\n",
    "#   2 3     3 4 5     9  14 19\n",
    "#   4 5               15 24 33\n",
    "\n",
    "# code and comments by github.com/alandavidgrunberg"
   ]
  }
 ],
 "metadata": {
  "kernelspec": {
   "display_name": "Python 3 (ipykernel)",
   "language": "python",
   "name": "python3"
  },
  "language_info": {
   "codemirror_mode": {
    "name": "ipython",
    "version": 3
   },
   "file_extension": ".py",
   "mimetype": "text/x-python",
   "name": "python",
   "nbconvert_exporter": "python",
   "pygments_lexer": "ipython3",
   "version": "3.8.12"
  },
  "toc": {
   "base_numbering": 1,
   "nav_menu": {},
   "number_sections": true,
   "sideBar": true,
   "skip_h1_title": false,
   "title_cell": "Table of Contents",
   "title_sidebar": "Contents",
   "toc_cell": false,
   "toc_position": {},
   "toc_section_display": true,
   "toc_window_display": false
  }
 },
 "nbformat": 4,
 "nbformat_minor": 5
}
