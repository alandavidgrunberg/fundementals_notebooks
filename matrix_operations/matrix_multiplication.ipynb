{
 "cells": [
  {
   "cell_type": "code",
   "execution_count": 2,
   "id": "e0f8c6e0",
   "metadata": {},
   "outputs": [
    {
     "name": "stdout",
     "output_type": "stream",
     "text": [
      "[14, 25, 36, 47]\n",
      "[32, 58, 84, 110]\n"
     ]
    }
   ],
   "source": [
    "# matrix multiplication \n",
    "\n",
    "# only works when 1st matrix # of cols == 2nd matrix # of rows\n",
    "\n",
    "A = [[1,2,3],   # 2 x 3\n",
    "\t[4,5,6]]\n",
    "\n",
    "B = [[1,2,3,4],   # 3 x 4\n",
    "\t[2,4,6,8],\n",
    "\t[3,5,7,9]]\n",
    "\t\n",
    "# result will have same # of rows as 1st matrix, same # of cols as 2nd matrix \n",
    "\n",
    "res = [[0,0,0,0],   # result will be 2 x 4\n",
    "\t\t [0,0,0,0]]\n",
    "\n",
    "# complicated nested looping:\t\t \n",
    "for l in range(len(A)): # iterate thru each row in A... (2 rows = 2 iterations)\n",
    "\tfor j in range(len(B[0])): # for each row, iterate thru each column in B... (2 iterations thru 4 cols = 8 iterations)\n",
    "\t\tfor k in range(len(B)): # for each row-column iteration, iterate thru each row in B... (8 iterations thru 3 cols = 24 iterations)\n",
    "\t\t\tres[l][j] += A[l][k] * B[k][j] # finds •dot product of corresponding arrays, puts them in a new matrix:\n",
    "\n",
    "#   (A row 0 • each column in B)\n",
    "#   (A row 1 • each column in B)\n",
    "\n",
    "# aka:\n",
    "\n",
    "#   (A row 0 • B col 0) (A row 0 • B col 1) (A row 0 • B col 2) (A row 0 • B col 3)\n",
    "#   (A row 1 • B col 0) (A row 1 • B col 1) (A row 1 • B col 2) (A row 1 • B col 3)\n",
    "\n",
    "# aka:\n",
    "\n",
    "#   (A00*B00 + A01*B10 + A02*B20)(A00*B01 + A01*B11 + A02*B21)(A00*B02 + A01*B12 + A02*B22)(A00*B03 + A01*B13 + A02*B23)\n",
    "#   (A10*B00 + A11*B10 + A12*B20)(A10*B01 + A11*B11 + A12*B21)(A10*B02 + A11*B12 + A12*B22)(A10*B03 + A11*B13 + A12*B23)\n",
    "\n",
    "# filling in vals:\n",
    "\n",
    "#   (1*1 + 2*2 + 3*3)(1*2 + 2*4 + 3*5)(1*3 + 2*6 + 3*7)(1*4 + 2*8 + 3*9)\n",
    "#   (4*1 + 5*2 + 6*3)(4*2 + 5*4 + 6*5)(4*3 + 5*6 + 6*7)(4*4 + 5*8 + 6*9)\n",
    "\t\n",
    "for r in res:\n",
    "\tprint(r)\n",
    "    \n",
    "# code and comments by github.com/alandavidgrunberg\n",
    "    "
   ]
  }
 ],
 "metadata": {
  "kernelspec": {
   "display_name": "Python 3 (ipykernel)",
   "language": "python",
   "name": "python3"
  },
  "language_info": {
   "codemirror_mode": {
    "name": "ipython",
    "version": 3
   },
   "file_extension": ".py",
   "mimetype": "text/x-python",
   "name": "python",
   "nbconvert_exporter": "python",
   "pygments_lexer": "ipython3",
   "version": "3.8.12"
  },
  "toc": {
   "base_numbering": 1,
   "nav_menu": {},
   "number_sections": true,
   "sideBar": true,
   "skip_h1_title": false,
   "title_cell": "Table of Contents",
   "title_sidebar": "Contents",
   "toc_cell": false,
   "toc_position": {},
   "toc_section_display": true,
   "toc_window_display": false
  }
 },
 "nbformat": 4,
 "nbformat_minor": 5
}
