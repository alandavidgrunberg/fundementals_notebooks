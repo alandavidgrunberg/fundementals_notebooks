{
 "cells": [
  {
   "cell_type": "code",
   "execution_count": 1,
   "id": "a8ebb12d",
   "metadata": {},
   "outputs": [
    {
     "name": "stdout",
     "output_type": "stream",
     "text": [
      "random numbers:\n",
      "[20, 35, 43, 46, 32]\n",
      "selection sorted:\n",
      "[20, 32, 35, 43, 46]\n"
     ]
    }
   ],
   "source": [
    "import random\n",
    "\n",
    "# create array of random integers\n",
    "def random_array(length): \n",
    "\tl = length\n",
    "\tarr = []\n",
    "\tfor i in range(l):\n",
    "\t\tarr.append(random.randint(1, 50))\n",
    "\tprint(\"random numbers:\")\n",
    "\tprint(arr)\n",
    "\treturn arr\n",
    "\n",
    "# Seection Sort finds smallest number the array and swaps it with the number in the 1st position (index 0, sweeps from index 1 to end during search)\n",
    "# then finds the next smallest number and swaps it with the element in the 2nd position (index 1, sweeps from index 2 to end during search)\n",
    "# continues in this way until the entire array is sorted\n",
    "# if the smallest number is already in the 1st position (or 2nd smallest already in 2nd position, etc.) no swap needs to be made \n",
    "\n",
    "# main advantage: simple algorithm\n",
    "# space complexity: O(1) (operates in place, no additional storage needed)\n",
    "# time complexity: O(N**2) average case, O(N**2) worst case, O(N**2) best case (same in all cases)\n",
    "\n",
    "def selection_sort(arr): # pass array to be sorted \n",
    "\tfor min_index in range(len(arr)): # iterate through array, starting each cycle where smallest number found in that cycle should be placed (1,2,3,4)\n",
    "\t\tactual_min = min_index # hold index of smallest number found (initialized as index where smallest number should be placed until *actual* smaller number found)\n",
    "\t\tfor check in range(min_index + 1, len(arr)): # iterate through rest of array *after* index of where smallest number should be placed (1-4,2-4,3-4)\n",
    "\t\t\tif arr[check] < arr[actual_min]: # check each number, if it's smaller than than the number currently held as smallest number...\n",
    "\t\t\t\t\t\t\t\t\t\t\t #(initially whatever number happened to be at the index where the smallest number *should* go)\n",
    "\t\t\t\tactual_min = check # hold its index as the new  *actual* smallest number found (will hold the smallest number found's index at the end of each cycle)\n",
    "\t\tarr[min_index], arr[actual_min] = arr[actual_min], arr[min_index] # swap the number in the index where smallest number *should* go with the *actual* smallest number\n",
    "\t\t\t\t\t\t\t\t\t\t\t\t\t\t\t\t\t\t  # (if no number was found smaller than the one already at the index where smallest number should go, no swap happens)\n",
    "\tprint(\"selection sorted:\")\n",
    "\tprint(arr)\n",
    "\n",
    "nums = random_array(5)\n",
    "selection_sort(nums)\n"
   ]
  },
  {
   "cell_type": "code",
   "execution_count": 2,
   "id": "09cc3ef0",
   "metadata": {},
   "outputs": [
    {
     "name": "stdout",
     "output_type": "stream",
     "text": [
      "random numbers:\n",
      "[47, 30, 23, 50, 34]\n",
      "begin selection sort:\n",
      "  sweep from 47 (index 0) to end\n",
      "\tchecking index 1...\n",
      "\t*smaller number 30 found*\n",
      "\tchecking index 2...\n",
      "\t*smaller number 23 found*\n",
      "\tchecking index 3...\n",
      "\tchecking index 4...\n",
      "\t**swap** 23 & 47\n",
      "  [23, 30, 47, 50, 34]\n",
      "  sweep from 30 (index 1) to end\n",
      "\tchecking index 2...\n",
      "\tchecking index 3...\n",
      "\tchecking index 4...\n",
      "  [23, 30, 47, 50, 34]\n",
      "  sweep from 47 (index 2) to end\n",
      "\tchecking index 3...\n",
      "\tchecking index 4...\n",
      "\t*smaller number 34 found*\n",
      "\t**swap** 34 & 47\n",
      "  [23, 30, 34, 50, 47]\n",
      "  sweep from 50 (index 3) to end\n",
      "\tchecking index 4...\n",
      "\t*smaller number 47 found*\n",
      "\t**swap** 47 & 50\n",
      "  [23, 30, 34, 47, 50]\n",
      "selection sorted:\n",
      "[23, 30, 34, 47, 50]\n"
     ]
    }
   ],
   "source": [
    "# same algorithm, reporting each step to user\n",
    "def narrated_selection_sort(arr): \n",
    "\tprint(\"begin selection sort:\")\n",
    "\tfor min_index in range(len(arr)):\n",
    "\t\tif min_index < len(arr)-1:\n",
    "\t\t\tprint(\"  sweep from \" + str(arr[min_index]) + \" (index \" + str(min_index) + \") to end\")\n",
    "\t\tactual_min = min_index \n",
    "\t\tfor check in range(min_index + 1, len(arr)):\n",
    "\t\t\tprint(\"\tchecking index \" + str(check) + \"...\")\n",
    "\t\t\tif arr[check] < arr[actual_min]:\n",
    "\t\t\t\tprint(\"\t*smaller number \" + str(arr[check]) + \" found*\")\t\t\t\t\t\t\t\n",
    "\t\t\t\tactual_min = check\n",
    "\t\tarr[min_index], arr[actual_min] = arr[actual_min], arr[min_index]\n",
    "\t\tif actual_min != min_index:\n",
    "\t\t\tprint(\"\t**swap** \" + str(arr[min_index]) + \" & \" + str(arr[actual_min]))\n",
    "\t\tif min_index < len(arr)-1:\n",
    "\t\t\tprint(\"  \" + str(arr))\t\t\t\t\t\t\t\t\t\t\t\t\t\t\t\t\n",
    "\tprint(\"selection sorted:\")\n",
    "\tprint(arr)\n",
    "\n",
    "nums = random_array(5)\n",
    "narrated_selection_sort(nums)\n",
    "\n",
    "# code and comments by github.com/alandavidgrunberg\n"
   ]
  }
 ],
 "metadata": {
  "kernelspec": {
   "display_name": "Python 3 (ipykernel)",
   "language": "python",
   "name": "python3"
  },
  "language_info": {
   "codemirror_mode": {
    "name": "ipython",
    "version": 3
   },
   "file_extension": ".py",
   "mimetype": "text/x-python",
   "name": "python",
   "nbconvert_exporter": "python",
   "pygments_lexer": "ipython3",
   "version": "3.8.12"
  },
  "toc": {
   "base_numbering": 1,
   "nav_menu": {},
   "number_sections": true,
   "sideBar": true,
   "skip_h1_title": false,
   "title_cell": "Table of Contents",
   "title_sidebar": "Contents",
   "toc_cell": false,
   "toc_position": {},
   "toc_section_display": true,
   "toc_window_display": false
  }
 },
 "nbformat": 4,
 "nbformat_minor": 5
}
