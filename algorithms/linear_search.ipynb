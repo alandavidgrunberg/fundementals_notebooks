{
 "cells": [
  {
   "cell_type": "code",
   "execution_count": 15,
   "id": "70782b3c",
   "metadata": {},
   "outputs": [
    {
     "name": "stdout",
     "output_type": "stream",
     "text": [
      "random numbers:\n",
      "[2, 8, 18, 5, 3, 6, 17, 3, 10, 20]\n",
      "linear search for 17:\n",
      "17 found at index 6\n",
      "\n",
      "random numbers:\n",
      "[17, 10, 14, 1, 2, 6, 6, 13, 13, 1]\n",
      "linear search for 6:\n",
      "  *checking index 0*\n",
      "  *checking index 1*\n",
      "  *checking index 2*\n",
      "  *checking index 3*\n",
      "  *checking index 4*\n",
      "  *checking index 5*\n",
      "6 found at index 5\n"
     ]
    }
   ],
   "source": [
    "import random\n",
    "\n",
    "# create array of random integers\n",
    "def random_array(length): \n",
    "\tl = length\n",
    "\tarr = []\n",
    "\tfor i in range(l):\n",
    "\t\tarr.append(random.randint(1, 20))\n",
    "\tprint(\"random numbers:\")\n",
    "\tprint(arr)\n",
    "\treturn arr\n",
    "\n",
    "# linear search is the most simple search algorithm\n",
    "# it does not require a sorted array\n",
    "# each item in the array is checked from left to right\n",
    "# if a match is found then that particular item is returned\n",
    "# otherwise the search continues until the end of the array\n",
    "\n",
    "# main advantage: simple algorithm\n",
    "# space complexity: O(1) (operates in place, no additional storage needed)\n",
    "# time complexity: O(N/2) average case, O(N) worst case, O(1) best case\n",
    "\n",
    "def linear_search(targ, arr):\n",
    "\tprint(\"linear search for \" + str(targ) + \":\")\n",
    "\tfor i in range(len(arr)):\n",
    "\t\tif arr[i] == targ:\n",
    "\t\t\tprint(str(targ) + \" found at index \" + str(i))\n",
    "\t\t\treturn\n",
    "\tprint(str(targ) + \" not found\")\n",
    "\t\t\n",
    "nums = random_array(10)\n",
    "target = random.randint(1,20)\n",
    "linear_search(target, nums)\n",
    "print()\n",
    "\n",
    "def narrated_linear_search(targ, arr):\n",
    "\tprint(\"linear search for \" + str(targ) + \":\")\n",
    "\tfor i in range(len(arr)):\n",
    "\t\tprint(\"  *checking index \" + str(i) + \"*\")\n",
    "\t\tif arr[i] == targ:\n",
    "\t\t\tprint(str(targ) + \" found at index \" + str(i))\n",
    "\t\t\treturn\n",
    "\tprint(str(targ) + \" not found\")\n",
    "\n",
    "nums = random_array(10)\n",
    "target = random.randint(1,20)\n",
    "narrated_linear_search(target, nums)\n",
    "\n",
    "# code and comments by github.com/alandavidgrunberg"
   ]
  }
 ],
 "metadata": {
  "kernelspec": {
   "display_name": "Python 3 (ipykernel)",
   "language": "python",
   "name": "python3"
  },
  "language_info": {
   "codemirror_mode": {
    "name": "ipython",
    "version": 3
   },
   "file_extension": ".py",
   "mimetype": "text/x-python",
   "name": "python",
   "nbconvert_exporter": "python",
   "pygments_lexer": "ipython3",
   "version": "3.8.12"
  },
  "toc": {
   "base_numbering": 1,
   "nav_menu": {},
   "number_sections": true,
   "sideBar": true,
   "skip_h1_title": false,
   "title_cell": "Table of Contents",
   "title_sidebar": "Contents",
   "toc_cell": false,
   "toc_position": {},
   "toc_section_display": true,
   "toc_window_display": false
  }
 },
 "nbformat": 4,
 "nbformat_minor": 5
}
