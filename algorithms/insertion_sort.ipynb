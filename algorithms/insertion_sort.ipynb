{
 "cells": [
  {
   "cell_type": "code",
   "execution_count": 1,
   "id": "caf4e0fb",
   "metadata": {},
   "outputs": [
    {
     "name": "stdout",
     "output_type": "stream",
     "text": [
      "random numbers:\n",
      "[20, 46, 47, 12, 16]\n",
      "insertion sorted:\n",
      "[12, 16, 20, 46, 47]\n"
     ]
    }
   ],
   "source": [
    "import random\n",
    "\n",
    "# create array of random integers\n",
    "def random_array(length): \n",
    "\tl = length\n",
    "\tarr = []\n",
    "\tfor i in range(l):\n",
    "\t\tarr.append(random.randint(1, 50))\n",
    "\tprint(\"random numbers:\")\n",
    "\tprint(arr)\n",
    "\treturn arr\n",
    "\n",
    "# insertion sort works kind of like arranging a hand of cards. for example, for a min->max list:\n",
    "# first, nums in first two positions compared and kept or swapped to ensure smaller number comes first\n",
    "# then num in third position compared to the (sorted) first two and inserted into its correct position in the order\n",
    "# then num in fourth position compared to the (sorted) first three, and inserted into its correct position, etc.\n",
    "# until all the nums in the list have been compared and inserted \n",
    "\n",
    "\n",
    "# main advantage: simple algorithm\n",
    "# space complexity: O(1) (operates in place, no additional storage needed)\n",
    "# time complexity: O()N**2 average case, O(N**2) worst case, O(N) best case\n",
    "\n",
    "def insertion_sort(arr): # pass array to be sorted\n",
    "\tfor i in range(1, len(arr)): # iterate through array starting at index 1 (1,2,3,4)\n",
    "\t\tc = i # first sweep starts at index 1, second sweep at index 2, etc. until last index (sweeps run backwards towards start of array)\n",
    "\t\twhile c > 0: # until *start* of sweep reaches the start of the array (index 0)...  \n",
    "\t\t\tif arr[c] < arr[c-1]: # compare number to number preceding it in the array\t\t\t\t\t\t\t\t\t\t\t\t\t\t\t\n",
    "\t\t\t\tarr[c], arr[c-1] = arr[c-1], arr[c] # if the number is smaller than the one preceding it, swap them\n",
    "\t\t\tc = c - 1 # continue sweep-loop starting one index closer to start (first sweep: 1st loop, compare 1 to 0 \n",
    "\t\t\t\t\t\t\t\t\t\t\t\t\t\t\t\t\t\t\t # second sweep: 1st loop, compare 2 to 1, 2nd loop compare 1 to 0\n",
    "\t\t\t\t\t\t\t\t\t\t\t\t\t\t\t\t\t\t\t  # third sweep: 1st loop, compare 3 to 2, 2nd loop compare 2 to 1, 3rd loop compare 1 to 0 etc.)\n",
    "\tprint(\"insertion sorted:\")\n",
    "\tprint(arr)\n",
    "\n",
    "nums = random_array(5)\n",
    "insertion_sort(nums)\n"
   ]
  },
  {
   "cell_type": "code",
   "execution_count": 2,
   "id": "f7c875b9",
   "metadata": {},
   "outputs": [
    {
     "name": "stdout",
     "output_type": "stream",
     "text": [
      "random numbers:\n",
      "[19, 29, 32, 24, 42]\n",
      "begin insertion sort:\n",
      "  sweep from index 1 to start\n",
      "\tcompare 29 & 19\n",
      "  [19, 29, 32, 24, 42]\n",
      "  sweep from index 2 to start\n",
      "\tcompare 32 & 29\n",
      "\tcompare 29 & 19\n",
      "  [19, 29, 32, 24, 42]\n",
      "  sweep from index 3 to start\n",
      "\tcompare 24 & 32\n",
      "\t *swap*\n",
      "\tcompare 24 & 29\n",
      "\t *swap*\n",
      "\tcompare 24 & 19\n",
      "  [19, 24, 29, 32, 42]\n",
      "  sweep from index 4 to start\n",
      "\tcompare 42 & 32\n",
      "\tcompare 32 & 29\n",
      "\tcompare 29 & 24\n",
      "\tcompare 24 & 19\n",
      "  [19, 24, 29, 32, 42]\n",
      "insertion sorted:\n",
      "[19, 24, 29, 32, 42]\n"
     ]
    }
   ],
   "source": [
    "# same algorithm, reporting each step to user\n",
    "def narrated_insertion_sort(arr): \n",
    "\tprint(\"begin insertion sort:\")\n",
    "\tfor i in range(1, len(arr)):\n",
    "\t\tprint(\"  sweep from index \" + str(i) +  \" to start\")\n",
    "\t\tc = i \n",
    "\t\twhile c > 0:\n",
    "\t\t\tprint(\"\tcompare \" + str(arr[c]) + \" & \" + str(arr[c-1]))\n",
    "\t\t\tif arr[c] < arr[c-1]:\t\t\t\t\t\t\t\t\t\t\t\t\t  \n",
    "\t\t\t\tarr[c], arr[c-1] = arr[c-1], arr[c]\n",
    "\t\t\t\tprint(\"\t *swap*\")\n",
    "\t\t\tc = c - 1\n",
    "\t\tprint(\"  \" + str(arr))\t\t\t\t\t\t\t\t\t\t\t\t\t\t\t\t\t\t \n",
    "\tprint(\"insertion sorted:\")\n",
    "\tprint(arr)\n",
    "\n",
    "nums = random_array(5)\n",
    "narrated_insertion_sort(nums)\n",
    "\n",
    "# code and comments by github.com/alandavidgrunberg\n"
   ]
  }
 ],
 "metadata": {
  "kernelspec": {
   "display_name": "Python 3 (ipykernel)",
   "language": "python",
   "name": "python3"
  },
  "language_info": {
   "codemirror_mode": {
    "name": "ipython",
    "version": 3
   },
   "file_extension": ".py",
   "mimetype": "text/x-python",
   "name": "python",
   "nbconvert_exporter": "python",
   "pygments_lexer": "ipython3",
   "version": "3.8.12"
  },
  "toc": {
   "base_numbering": 1,
   "nav_menu": {},
   "number_sections": true,
   "sideBar": true,
   "skip_h1_title": false,
   "title_cell": "Table of Contents",
   "title_sidebar": "Contents",
   "toc_cell": false,
   "toc_position": {},
   "toc_section_display": true,
   "toc_window_display": false
  }
 },
 "nbformat": 4,
 "nbformat_minor": 5
}
