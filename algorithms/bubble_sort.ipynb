{
 "cells": [
  {
   "cell_type": "code",
   "execution_count": 1,
   "id": "1b89af7f",
   "metadata": {},
   "outputs": [
    {
     "name": "stdout",
     "output_type": "stream",
     "text": [
      "random numbers:\n",
      "[36, 50, 46, 30, 32]\n",
      "bubble sorted:\n",
      "[30, 32, 36, 46, 50]\n"
     ]
    }
   ],
   "source": [
    "import random\n",
    "\n",
    "# create array of random integers\n",
    "def random_array(length): \n",
    "\tl = length\n",
    "\tarr = []\n",
    "\tfor i in range(l):\n",
    "\t\tarr.append(random.randint(1, 50))\n",
    "\tprint(\"random numbers:\")\n",
    "\tprint(arr)\n",
    "\treturn arr\n",
    "\n",
    "# bubble sort compares each pair of adjacent numbers in the array and swaps them if they are not in order (smallest to largest)\n",
    "# first sweep checks the whole array from index 0 (beginning) to end\n",
    "# next sweep checks from index 0 to end-1 (checking the end of the list is no longer necessary: largest number already moved there during the first sweep\n",
    "# next sweep checks from index 0 to end-2 (because now the last two numbers on list will already be in their correct place)\n",
    "# next sweep checks from index 0 to end-3 and so on, until the final sweep just checks the first pair of adjacent numbers (index 0 and index 1)\n",
    "# called bubble sort because the smallest number 'bubbles' up to the beginning of list through each iteration of the algorithm\n",
    "\n",
    "# main advantage: simple algorithm\n",
    "# space complexity: O(1) (operates in place, no additional storage needed)\n",
    "# time complexity: O(N**2) average case, O(N**2) worst case, O(N) best case\n",
    "\n",
    "def bubble_sort(arr): # pass array to be sorted \n",
    "\tfor cycle in range(len(arr)-1,0,-1): # count down backwards from last index of array (length-1) to one (4,3,2,1)\n",
    "\t\tfor c in range(cycle): # iterates from beginning of array to last index, then beginning to 2nd to last index, etc. (0-4,0-3,0-2,0-1)\n",
    "\t\t\tif arr[c]>arr[c+1]: # compare first pair of numbers, then second pair, third pair, etc. if the pair is out of order (first greater than second)...\n",
    "\t\t\t\tarr[c], arr[c+1] = arr[c+1], arr[c] # swap the numbers \n",
    "\tprint(\"bubble sorted:\")\n",
    "\tprint(arr)\n",
    "\n",
    "nums = random_array(5)\n",
    "bubble_sort(nums)\n"
   ]
  },
  {
   "cell_type": "code",
   "execution_count": 2,
   "id": "9c81164d",
   "metadata": {},
   "outputs": [
    {
     "name": "stdout",
     "output_type": "stream",
     "text": [
      "random numbers:\n",
      "[37, 14, 1, 42, 27]\n",
      "begin bubble sort:\n",
      "  sweep from start to index 4\n",
      "    compare 37 & 14\n",
      "      *swap*\n",
      "    compare 37 & 1\n",
      "      *swap*\n",
      "    compare 37 & 42\n",
      "    compare 42 & 27\n",
      "      *swap*\n",
      "   [14, 1, 37, 27, 42]\n",
      "  sweep from start to index 3\n",
      "    compare 14 & 1\n",
      "      *swap*\n",
      "    compare 14 & 37\n",
      "    compare 37 & 27\n",
      "      *swap*\n",
      "   [1, 14, 27, 37, 42]\n",
      "  sweep from start to index 2\n",
      "    compare 1 & 14\n",
      "    compare 14 & 27\n",
      "   [1, 14, 27, 37, 42]\n",
      "  sweep from start to index 1\n",
      "    compare 1 & 14\n",
      "   [1, 14, 27, 37, 42]\n",
      "bubble sorted:\n",
      "[1, 14, 27, 37, 42]\n"
     ]
    }
   ],
   "source": [
    "# same algorithm, reporting each step to user\n",
    "def narrated_bubble_sort(arr):\n",
    "\tprint(\"begin bubble sort:\")\n",
    "\tfor cycle in range(len(arr)-1,0,-1):\n",
    "\t\tprint(\"  sweep from start to index \" + str(cycle))\n",
    "\t\tfor c in range(cycle):\n",
    "\t\t\tprint(\"    compare \" + str(arr[c]) + \" & \" + str(arr[c+1]))\n",
    "\t\t\tif arr[c]>arr[c+1]:\n",
    "\t\t\t\tarr[c], arr[c+1] = arr[c+1], arr[c]\n",
    "\t\t\t\tprint(\"      *swap*\")\n",
    "\t\tprint(\"   \" + str(arr))\n",
    "\tprint(\"bubble sorted:\")\n",
    "\tprint(arr)\n",
    "\n",
    "nums = random_array(5)\n",
    "narrated_bubble_sort(nums)\n",
    "\n",
    "# code and comments by github.com/alandavidgrunberg"
   ]
  }
 ],
 "metadata": {
  "kernelspec": {
   "display_name": "Python 3 (ipykernel)",
   "language": "python",
   "name": "python3"
  },
  "language_info": {
   "codemirror_mode": {
    "name": "ipython",
    "version": 3
   },
   "file_extension": ".py",
   "mimetype": "text/x-python",
   "name": "python",
   "nbconvert_exporter": "python",
   "pygments_lexer": "ipython3",
   "version": "3.8.12"
  },
  "toc": {
   "base_numbering": 1,
   "nav_menu": {},
   "number_sections": true,
   "sideBar": true,
   "skip_h1_title": false,
   "title_cell": "Table of Contents",
   "title_sidebar": "Contents",
   "toc_cell": false,
   "toc_position": {},
   "toc_section_display": true,
   "toc_window_display": false
  }
 },
 "nbformat": 4,
 "nbformat_minor": 5
}
