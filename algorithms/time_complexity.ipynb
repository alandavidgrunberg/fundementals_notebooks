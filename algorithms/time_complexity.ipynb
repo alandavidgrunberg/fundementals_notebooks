{
 "cells": [
  {
   "cell_type": "code",
   "execution_count": 12,
   "id": "36f0933e",
   "metadata": {},
   "outputs": [
    {
     "name": "stdout",
     "output_type": "stream",
     "text": [
      "n = 2000\n",
      "\n",
      "O(1)\n",
      "(constant time)\n",
      "Accessing random item from list of 2000 items.\n",
      "*completed in 0.377 milliseconds*\n"
     ]
    }
   ],
   "source": [
    "import time as t\n",
    "import random as r\n",
    "\n",
    "count = 2000\n",
    "\n",
    "print('n = ' + str(count))\n",
    "print()\n",
    "\n",
    "print('O(1)')\n",
    "print('(constant time)')\n",
    "arr = [\"item \" + str(i) for i in range(0,count)]\n",
    "index = r.randint(0,count)\n",
    "start_time = t.time()\n",
    "print('Accessing random item from list of ' + str(count) + ' items.')\n",
    "end_time = t.time()\n",
    "elapsed_time = end_time - start_time\n",
    "print('*completed in ' + str(round(1000*elapsed_time,3)) + ' milliseconds*')\n"
   ]
  },
  {
   "cell_type": "code",
   "execution_count": 13,
   "id": "aa562647",
   "metadata": {},
   "outputs": [
    {
     "name": "stdout",
     "output_type": "stream",
     "text": [
      "O(log n)\n",
      "(logarithmic time)\n",
      "Doubling 1 until as close to 2000 as possible without going over.\n",
      "*completed in 0.173 milliseconds*\n"
     ]
    }
   ],
   "source": [
    "print('O(log n)')\n",
    "print('(logarithmic time)')\n",
    "value = 1\n",
    "start_time = t.time()\n",
    "while value <= count:\n",
    "\tif value * 2 > count:\n",
    "\t\tbreak\n",
    "\telse:\n",
    "\t\tvalue *= 2\n",
    "print('Doubling 1 until as close to ' + str(count) + ' as possible without going over.')\n",
    "end_time = t.time()\n",
    "elapsed_time = end_time - start_time\n",
    "print('*completed in ' + str(round(1000*elapsed_time,3)) + ' milliseconds*')\n"
   ]
  },
  {
   "cell_type": "code",
   "execution_count": 14,
   "id": "42c86179",
   "metadata": {},
   "outputs": [
    {
     "name": "stdout",
     "output_type": "stream",
     "text": [
      "O(n)\n",
      "(linear time)\n",
      "Incrementing 1 by 1 until it reaches 2000.\n",
      "*completed in 0.963 milliseconds*\n"
     ]
    }
   ],
   "source": [
    "print('O(n)')\n",
    "print('(linear time)')\n",
    "value = 1\n",
    "start_time = t.time()\n",
    "while value < count:\n",
    "\tvalue += 1\n",
    "print('Incrementing 1 by 1 until it reaches ' + str(value) + '.')\n",
    "end_time = t.time()\n",
    "elapsed_time = end_time - start_time\n",
    "print('*completed in ' + str(round(1000*elapsed_time,3)) + ' milliseconds*')\n"
   ]
  },
  {
   "cell_type": "code",
   "execution_count": 15,
   "id": "4d32e0f3",
   "metadata": {},
   "outputs": [
    {
     "name": "stdout",
     "output_type": "stream",
     "text": [
      "O(n log n)\n",
      "(quasilinear time)\n",
      "Incrementing 1 by 1 until it reaches 2000...\n",
      "dividing same value by 2 at each step...\n",
      "until as close to 1 as possible without going under.\n",
      "*completed in 5.065 milliseconds*\n"
     ]
    }
   ],
   "source": [
    "print('O(n log n)')\n",
    "print('(quasilinear time)')\n",
    "value = 1\n",
    "start_time = t.time()\n",
    "while value < count:\n",
    "\tvalue += 1\n",
    "\tval = value\n",
    "\twhile val/2 > 1:\n",
    "\t\tval /= 2\n",
    "print('Incrementing 1 by 1 until it reaches ' + str(value) + '...')\n",
    "print('dividing same value by 2 at each step...')\n",
    "print('until as close to 1 as possible without going under.')\n",
    "end_time = t.time()\n",
    "elapsed_time = end_time - start_time\n",
    "print('*completed in ' + str(round(1000*elapsed_time,3)) + ' milliseconds*')\n"
   ]
  },
  {
   "cell_type": "code",
   "execution_count": 16,
   "id": "7d800774",
   "metadata": {},
   "outputs": [
    {
     "name": "stdout",
     "output_type": "stream",
     "text": [
      "O(n**2)\n",
      "(quadratic time)\n",
      "Incrementing 1 by 1 until it reaches 2000...\n",
      "incrementing 1 by 1 again at each step until it reaches 2000.\n",
      "*completed in 255.537 milliseconds*\n"
     ]
    }
   ],
   "source": [
    "print('O(n**2)')\n",
    "print('(quadratic time)')\n",
    "value = 1\n",
    "start_time = t.time()\n",
    "while value < count:\n",
    "\tvalue += 1\n",
    "\tval = value\n",
    "\twhile val < count:\n",
    "\t\tval += 1\n",
    "print('Incrementing 1 by 1 until it reaches ' + str(value) + '...')\n",
    "print('incrementing 1 by 1 again at each step until it reaches ' + str(val) + '.')\n",
    "end_time = t.time()\n",
    "elapsed_time = end_time - start_time\n",
    "print('*completed in ' + str(round(1000*elapsed_time,3)) + ' milliseconds*')\n"
   ]
  },
  {
   "cell_type": "code",
   "execution_count": 17,
   "id": "292fc34f",
   "metadata": {},
   "outputs": [
    {
     "name": "stdout",
     "output_type": "stream",
     "text": [
      "\n",
      "the next algorithms is so slow,\n",
      "that with n = 2000 the program would time out!\n",
      "so we must lower n:\n",
      "\n",
      "n = 30\n",
      "\n",
      "O(2**n)\n",
      "(exponential time)\n",
      "Finding 30th fibonacci number using recursion.\n",
      "*completed in 403.466 milliseconds*\n"
     ]
    }
   ],
   "source": [
    "print()\n",
    "print('the next algorithms is so slow,')\n",
    "print('that with n = ' + str(count) + ' the program would time out!')\n",
    "print('so we must lower n:')\n",
    "\n",
    "count = 30\n",
    "print()\n",
    "print('n = ' + str(count))\n",
    "print()\n",
    "\n",
    "\n",
    "print('O(2**n)')\n",
    "print('(exponential time)')\n",
    "def fib(i):\n",
    "\tif i <= 1:\n",
    "\t\treturn i\n",
    "\telse:\n",
    "\t\treturn fib(i-2) + fib(i-1)\n",
    "start_time = t.time()\n",
    "fib(count)\n",
    "print('Finding ' + str(count) + 'th fibonacci number using recursion.')\n",
    "end_time = t.time()\n",
    "elapsed_time = end_time - start_time\n",
    "print('*completed in ' + str(round(1000*elapsed_time,3)) + ' milliseconds*')\n"
   ]
  },
  {
   "cell_type": "code",
   "execution_count": 18,
   "id": "51dae299",
   "metadata": {},
   "outputs": [
    {
     "name": "stdout",
     "output_type": "stream",
     "text": [
      "the next algorithms is so slow,\n",
      "that with n = 30 the program would time out!\n",
      "so we must lower n again:\n",
      "\n",
      "n = 10\n",
      "\n",
      "O(n!)\n",
      "(factorial time)\n",
      "Finding all possible arrangements of 10 numbers using recursion.\n",
      "*completed in 1908.463 milliseconds*\n"
     ]
    }
   ],
   "source": [
    "print('the next algorithms is so slow,')\n",
    "print('that with n = ' + str(count) + ' the program would time out!')\n",
    "print('so we must lower n again:')\n",
    "\n",
    "count = 10\n",
    "print()\n",
    "print('n = ' + str(count))\n",
    "print()\n",
    "\n",
    "print('O(n!)')\n",
    "print('(factorial time)')\n",
    "def fact(i):\n",
    "\tvalue = 0\n",
    "\twhile value < i:\n",
    "\t\tvalue += 1\n",
    "\t\tfact(i-1)\n",
    "start_time = t.time()\n",
    "fact(count)\n",
    "print('Finding all possible arrangements of ' + str(count) + ' numbers using recursion.')\n",
    "end_time = t.time()\n",
    "elapsed_time = end_time - start_time\n",
    "print('*completed in ' + str(round(1000*elapsed_time,3)) + ' milliseconds*')\n",
    "\n",
    "# code and comments by github.com/alandavidgrunberg\n"
   ]
  }
 ],
 "metadata": {
  "kernelspec": {
   "display_name": "Python 3 (ipykernel)",
   "language": "python",
   "name": "python3"
  },
  "language_info": {
   "codemirror_mode": {
    "name": "ipython",
    "version": 3
   },
   "file_extension": ".py",
   "mimetype": "text/x-python",
   "name": "python",
   "nbconvert_exporter": "python",
   "pygments_lexer": "ipython3",
   "version": "3.8.12"
  },
  "toc": {
   "base_numbering": 1,
   "nav_menu": {},
   "number_sections": true,
   "sideBar": true,
   "skip_h1_title": false,
   "title_cell": "Table of Contents",
   "title_sidebar": "Contents",
   "toc_cell": false,
   "toc_position": {},
   "toc_section_display": true,
   "toc_window_display": false
  }
 },
 "nbformat": 4,
 "nbformat_minor": 5
}
